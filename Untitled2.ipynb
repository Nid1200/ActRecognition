{
  "nbformat": 4,
  "nbformat_minor": 0,
  "metadata": {
    "colab": {
      "name": "Untitled2.ipynb",
      "provenance": [],
      "authorship_tag": "ABX9TyMPIrQj2T7fZf5+x1pfHqjP",
      "include_colab_link": true
    },
    "kernelspec": {
      "display_name": "Python 3",
      "name": "python3"
    },
    "language_info": {
      "name": "python"
    }
  },
  "cells": [
    {
      "cell_type": "markdown",
      "metadata": {
        "id": "view-in-github",
        "colab_type": "text"
      },
      "source": [
        "<a href=\"https://colab.research.google.com/github/Nid1200/ActRecognition/blob/main/Untitled2.ipynb\" target=\"_parent\"><img src=\"https://colab.research.google.com/assets/colab-badge.svg\" alt=\"Open In Colab\"/></a>"
      ]
    },
    {
      "cell_type": "code",
      "metadata": {
        "colab": {
          "base_uri": "https://localhost:8080/"
        },
        "id": "5rz4XqETP_UV",
        "outputId": "812fc9fd-750c-44df-9659-d969e3dc83cc"
      },
      "source": [
        "!git clone https://github.com/Nid1200/HAR-Web.git"
      ],
      "execution_count": null,
      "outputs": [
        {
          "output_type": "stream",
          "text": [
            "Cloning into 'HAR-Web'...\n",
            "remote: Enumerating objects: 6575, done.\u001b[K\n",
            "remote: Counting objects: 100% (107/107), done.\u001b[K\n",
            "remote: Compressing objects: 100% (107/107), done.\u001b[K\n",
            "remote: Total 6575 (delta 54), reused 0 (delta 0), pack-reused 6468\u001b[K\n",
            "Receiving objects: 100% (6575/6575), 109.40 MiB | 32.68 MiB/s, done.\n",
            "Resolving deltas: 100% (182/182), done.\n",
            "Checking out files: 100% (10697/10697), done.\n"
          ],
          "name": "stdout"
        }
      ]
    },
    {
      "cell_type": "code",
      "metadata": {
        "colab": {
          "base_uri": "https://localhost:8080/"
        },
        "id": "w9CzCzZyQELe",
        "outputId": "2b653328-818c-42a3-bd15-11f0ec585fbd"
      },
      "source": [
        "!git clone https://github.com/augmentedstartups/tf-pose-estimation.git\n"
      ],
      "execution_count": 2,
      "outputs": [
        {
          "output_type": "stream",
          "text": [
            "Cloning into 'tf-pose-estimation'...\n",
            "remote: Enumerating objects: 1516, done.\u001b[K\n",
            "remote: Total 1516 (delta 0), reused 0 (delta 0), pack-reused 1516\u001b[K\n",
            "Receiving objects: 100% (1516/1516), 94.21 MiB | 36.40 MiB/s, done.\n",
            "Resolving deltas: 100% (827/827), done.\n"
          ],
          "name": "stdout"
        }
      ]
    },
    {
      "cell_type": "code",
      "metadata": {
        "id": "ita-xHhu9gYO"
      },
      "source": [
        "from google.colab import drive\n",
        "drive.mount('/content/drive')"
      ],
      "execution_count": null,
      "outputs": []
    },
    {
      "cell_type": "code",
      "metadata": {
        "id": "4VX7YlGgRiAh"
      },
      "source": [
        "!cd tf-pose-estimation/models/graph/cmu  \n",
        "\n"
      ],
      "execution_count": null,
      "outputs": []
    },
    {
      "cell_type": "code",
      "metadata": {
        "colab": {
          "base_uri": "https://localhost:8080/",
          "height": 35
        },
        "id": "Idzpb9OQRpxD",
        "outputId": "5e7c1de9-d045-47c6-b53d-e32eaa604e2f"
      },
      "source": [
        "pwd"
      ],
      "execution_count": null,
      "outputs": [
        {
          "output_type": "execute_result",
          "data": {
            "application/vnd.google.colaboratory.intrinsic+json": {
              "type": "string"
            },
            "text/plain": [
              "'/content/HAR-Web'"
            ]
          },
          "metadata": {
            "tags": []
          },
          "execution_count": 12
        }
      ]
    },
    {
      "cell_type": "code",
      "metadata": {
        "colab": {
          "base_uri": "https://localhost:8080/"
        },
        "id": "fl45fL_USEbp",
        "outputId": "52fd9592-4d5f-4502-9e1e-29d7e92eaf83"
      },
      "source": [
        "cd .."
      ],
      "execution_count": null,
      "outputs": [
        {
          "output_type": "stream",
          "text": [
            "/content\n"
          ],
          "name": "stdout"
        }
      ]
    },
    {
      "cell_type": "code",
      "metadata": {
        "colab": {
          "base_uri": "https://localhost:8080/"
        },
        "id": "Wm69MmMFSHHI",
        "outputId": "3d2dc923-19c4-42bb-bd59-c2210574fd0b"
      },
      "source": [
        "cd /content/HAR-Web/tf-pose-estimation"
      ],
      "execution_count": null,
      "outputs": [
        {
          "output_type": "stream",
          "text": [
            "/content/HAR-Web/tf-pose-estimation\n"
          ],
          "name": "stdout"
        }
      ]
    },
    {
      "cell_type": "code",
      "metadata": {
        "colab": {
          "base_uri": "https://localhost:8080/"
        },
        "id": "iWoiqnrhSQAM",
        "outputId": "750cb165-540a-408d-caf7-90a70a1bd74b"
      },
      "source": [
        "cd /content/HAR-Web/tf-pose-estimation/models/graph/cmu"
      ],
      "execution_count": null,
      "outputs": [
        {
          "output_type": "stream",
          "text": [
            "/content/HAR-Web/tf-pose-estimation/models/graph/cmu\n"
          ],
          "name": "stdout"
        }
      ]
    },
    {
      "cell_type": "code",
      "metadata": {
        "colab": {
          "base_uri": "https://localhost:8080/"
        },
        "id": "TgKIG29cSUoo",
        "outputId": "a3bc5ef1-9a61-494a-d555-ccb90083e0b3"
      },
      "source": [
        "!bash download.sh"
      ],
      "execution_count": null,
      "outputs": [
        {
          "output_type": "stream",
          "text": [
            "[download] model graph : cmu\n",
            "--2021-06-19 17:26:36--  http://download1412.mediafire.com/tc4jemqhb4og/qlzzr20mpocnpa3/graph_opt.pb\n",
            "Resolving download1412.mediafire.com (download1412.mediafire.com)... 205.196.123.100\n",
            "Connecting to download1412.mediafire.com (download1412.mediafire.com)|205.196.123.100|:80... connected.\n",
            "HTTP request sent, awaiting response... 200 OK\n",
            "Length: 209299198 (200M) [application/octet-stream]\n",
            "Saving to: ‘/content/HAR-Web/tf-pose-estimation/models/graph/cmu/graph_opt.pb’\n",
            "\n",
            "/content/HAR-Web/tf 100%[===================>] 199.60M  8.36MB/s    in 23s     \n",
            "\n",
            "2021-06-19 17:26:59 (8.58 MB/s) - ‘/content/HAR-Web/tf-pose-estimation/models/graph/cmu/graph_opt.pb’ saved [209299198/209299198]\n",
            "\n",
            "[download] end\n"
          ],
          "name": "stdout"
        }
      ]
    },
    {
      "cell_type": "code",
      "metadata": {
        "colab": {
          "base_uri": "https://localhost:8080/",
          "height": 35
        },
        "id": "yXki-M5CSmq4",
        "outputId": "f839488f-3990-439e-cde9-bc5f9cbdcb64"
      },
      "source": [
        "pwd\n"
      ],
      "execution_count": null,
      "outputs": [
        {
          "output_type": "execute_result",
          "data": {
            "application/vnd.google.colaboratory.intrinsic+json": {
              "type": "string"
            },
            "text/plain": [
              "'/content/HAR-Web/tf-pose-estimation/models/graph/cmu'"
            ]
          },
          "metadata": {
            "tags": []
          },
          "execution_count": 22
        }
      ]
    },
    {
      "cell_type": "code",
      "metadata": {
        "colab": {
          "base_uri": "https://localhost:8080/"
        },
        "id": "R5WZ-ULbVMNK",
        "outputId": "8951b23c-93cd-4c16-e000-60876d504c67"
      },
      "source": [
        "cd /content/HAR-Web/Recognizer"
      ],
      "execution_count": 4,
      "outputs": [
        {
          "output_type": "stream",
          "text": [
            "/content/HAR-Web/Recognizer\n"
          ],
          "name": "stdout"
        }
      ]
    },
    {
      "cell_type": "code",
      "metadata": {
        "colab": {
          "base_uri": "https://localhost:8080/"
        },
        "id": "LNnbrDU-VSPw",
        "outputId": "cdffbc62-20f5-4119-9b97-fbb045170527"
      },
      "source": [
        "!python src/s1_get_skeletons_from_training_imgs.py\n",
        " \n"
      ],
      "execution_count": 12,
      "outputs": [
        {
          "output_type": "stream",
          "text": [
            "WARNING:tensorflow:\n",
            "The TensorFlow contrib module will not be included in TensorFlow 2.0.\n",
            "For more information, please see:\n",
            "  * https://github.com/tensorflow/community/blob/master/rfcs/20180907-contrib-sunset.md\n",
            "  * https://github.com/tensorflow/addons\n",
            "  * https://github.com/tensorflow/io (for I/O related ops)\n",
            "If you depend on functionality not listed there, please file an issue.\n",
            "\n",
            "WARNING:tensorflow:From /usr/local/lib/python3.7/dist-packages/tf_pose/mobilenet/mobilenet.py:376: The name tf.nn.avg_pool is deprecated. Please use tf.nn.avg_pool2d instead.\n",
            "\n",
            "WARNING:tensorflow:From /content/HAR-Web/Recognizer/src/../utils/lib_openpose.py:47: The name tf.ConfigProto is deprecated. Please use tf.compat.v1.ConfigProto instead.\n",
            "\n",
            "Traceback (most recent call last):\n",
            "  File \"src/s1_get_skeletons_from_training_imgs.py\", line 109, in <module>\n",
            "    skeleton_detector = SkeletonDetector(OPENPOSE_MODEL, OPENPOSE_IMG_SIZE)\n",
            "  File \"/content/HAR-Web/Recognizer/src/../utils/lib_openpose.py\", line 81, in __init__\n",
            "    get_graph_path(self._model), \n",
            "  File \"/usr/local/lib/python3.7/dist-packages/tf_pose/networks.py\", line 230, in get_graph_path\n",
            "    raise Exception(\"Graph file doesn't exist, path=%s\" % graph_path)\n",
            "Exception: Graph file doesn't exist, path=/usr/local/lib/python3.7/dist-packages/tf_pose_data/graph/cmu/graph_opt.pb\n"
          ],
          "name": "stdout"
        }
      ]
    },
    {
      "cell_type": "code",
      "metadata": {
        "id": "2PODav6H_l9e"
      },
      "source": [
        ""
      ],
      "execution_count": null,
      "outputs": []
    },
    {
      "cell_type": "code",
      "metadata": {
        "id": "q8ojY5DBa3Jl",
        "colab": {
          "base_uri": "https://localhost:8080/",
          "height": 1000
        },
        "outputId": "2957d088-7aea-4836-d1bf-fe64c097e1e3"
      },
      "source": [
        "!pip install tf_pose"
      ],
      "execution_count": 6,
      "outputs": [
        {
          "output_type": "stream",
          "text": [
            "Collecting tf_pose\n",
            "\u001b[?25l  Downloading https://files.pythonhosted.org/packages/e4/c7/526546c24f5ff86e20497d905f30f0a3cd63bac6f914bd4583ecce56ba9f/tf_pose-0.11.0.tar.gz (7.3MB)\n",
            "\u001b[K     |████████████████████████████████| 7.3MB 2.6MB/s \n",
            "\u001b[?25hCollecting argparse>=1.1\n",
            "  Downloading https://files.pythonhosted.org/packages/f2/94/3af39d34be01a24a6e65433d19e107099374224905f1e0cc6bbe1fd22a2f/argparse-1.4.0-py2.py3-none-any.whl\n",
            "Collecting dill==0.2.7.1\n",
            "\u001b[?25l  Downloading https://files.pythonhosted.org/packages/91/a0/19d4d31dee064fc553ae01263b5c55e7fb93daff03a69debbedee647c5a0/dill-0.2.7.1.tar.gz (64kB)\n",
            "\u001b[K     |████████████████████████████████| 71kB 8.5MB/s \n",
            "\u001b[?25hCollecting fire>=0.1.3\n",
            "\u001b[?25l  Downloading https://files.pythonhosted.org/packages/11/07/a119a1aa04d37bc819940d95ed7e135a7dcca1c098123a3764a6dcace9e7/fire-0.4.0.tar.gz (87kB)\n",
            "\u001b[K     |████████████████████████████████| 92kB 9.8MB/s \n",
            "\u001b[?25hRequirement already satisfied: matplotlib>=2.2.2 in /usr/local/lib/python3.7/dist-packages (from tf_pose) (3.2.2)\n",
            "Requirement already satisfied: psutil>=5.4.5 in /usr/local/lib/python3.7/dist-packages (from tf_pose) (5.4.8)\n",
            "Requirement already satisfied: requests>=2.18.4 in /usr/local/lib/python3.7/dist-packages (from tf_pose) (2.23.0)\n",
            "Requirement already satisfied: scikit-image>=0.13.1 in /usr/local/lib/python3.7/dist-packages (from tf_pose) (0.16.2)\n",
            "Requirement already satisfied: scipy>=1.1.0 in /usr/local/lib/python3.7/dist-packages (from tf_pose) (1.4.1)\n",
            "Collecting slidingwindow>=0.0.13\n",
            "  Downloading https://files.pythonhosted.org/packages/9b/80/ce3b1a3a6f940a89da6fcacc20cad3cd9520456fdf85fc18328026973f30/slidingwindow-0.0.14-py3-none-any.whl\n",
            "Requirement already satisfied: opencv-python in /usr/local/lib/python3.7/dist-packages (from tf_pose) (4.1.2.30)\n",
            "Requirement already satisfied: tqdm>=4.23.4 in /usr/local/lib/python3.7/dist-packages (from tf_pose) (4.41.1)\n",
            "Collecting tensorflow<2.0\n",
            "\u001b[?25l  Downloading https://files.pythonhosted.org/packages/9a/51/99abd43185d94adaaaddf8f44a80c418a91977924a7bc39b8dacd0c495b0/tensorflow-1.15.5-cp37-cp37m-manylinux2010_x86_64.whl (110.5MB)\n",
            "\u001b[K     |████████████████████████████████| 110.5MB 28kB/s \n",
            "\u001b[?25hCollecting tensorpack>=0.8.5\n",
            "\u001b[?25l  Downloading https://files.pythonhosted.org/packages/f9/8c/63e5f5a4a04dea36b75850f9daa885ccbfad64bec1fae0ee4ca9f31b3eaa/tensorpack-0.11-py2.py3-none-any.whl (296kB)\n",
            "\u001b[K     |████████████████████████████████| 296kB 53.2MB/s \n",
            "\u001b[?25hRequirement already satisfied: pycocotools in /usr/local/lib/python3.7/dist-packages (from tf_pose) (2.0.2)\n",
            "Requirement already satisfied: six in /usr/local/lib/python3.7/dist-packages (from fire>=0.1.3->tf_pose) (1.15.0)\n",
            "Requirement already satisfied: termcolor in /usr/local/lib/python3.7/dist-packages (from fire>=0.1.3->tf_pose) (1.1.0)\n",
            "Requirement already satisfied: cycler>=0.10 in /usr/local/lib/python3.7/dist-packages (from matplotlib>=2.2.2->tf_pose) (0.10.0)\n",
            "Requirement already satisfied: pyparsing!=2.0.4,!=2.1.2,!=2.1.6,>=2.0.1 in /usr/local/lib/python3.7/dist-packages (from matplotlib>=2.2.2->tf_pose) (2.4.7)\n",
            "Requirement already satisfied: numpy>=1.11 in /usr/local/lib/python3.7/dist-packages (from matplotlib>=2.2.2->tf_pose) (1.19.5)\n",
            "Requirement already satisfied: kiwisolver>=1.0.1 in /usr/local/lib/python3.7/dist-packages (from matplotlib>=2.2.2->tf_pose) (1.3.1)\n",
            "Requirement already satisfied: python-dateutil>=2.1 in /usr/local/lib/python3.7/dist-packages (from matplotlib>=2.2.2->tf_pose) (2.8.1)\n",
            "Requirement already satisfied: certifi>=2017.4.17 in /usr/local/lib/python3.7/dist-packages (from requests>=2.18.4->tf_pose) (2021.5.30)\n",
            "Requirement already satisfied: chardet<4,>=3.0.2 in /usr/local/lib/python3.7/dist-packages (from requests>=2.18.4->tf_pose) (3.0.4)\n",
            "Requirement already satisfied: idna<3,>=2.5 in /usr/local/lib/python3.7/dist-packages (from requests>=2.18.4->tf_pose) (2.10)\n",
            "Requirement already satisfied: urllib3!=1.25.0,!=1.25.1,<1.26,>=1.21.1 in /usr/local/lib/python3.7/dist-packages (from requests>=2.18.4->tf_pose) (1.24.3)\n",
            "Requirement already satisfied: networkx>=2.0 in /usr/local/lib/python3.7/dist-packages (from scikit-image>=0.13.1->tf_pose) (2.5.1)\n",
            "Requirement already satisfied: imageio>=2.3.0 in /usr/local/lib/python3.7/dist-packages (from scikit-image>=0.13.1->tf_pose) (2.4.1)\n",
            "Requirement already satisfied: PyWavelets>=0.4.0 in /usr/local/lib/python3.7/dist-packages (from scikit-image>=0.13.1->tf_pose) (1.1.1)\n",
            "Requirement already satisfied: pillow>=4.3.0 in /usr/local/lib/python3.7/dist-packages (from scikit-image>=0.13.1->tf_pose) (7.1.2)\n",
            "Requirement already satisfied: grpcio>=1.8.6 in /usr/local/lib/python3.7/dist-packages (from tensorflow<2.0->tf_pose) (1.34.1)\n",
            "Collecting tensorflow-estimator==1.15.1\n",
            "\u001b[?25l  Downloading https://files.pythonhosted.org/packages/de/62/2ee9cd74c9fa2fa450877847ba560b260f5d0fb70ee0595203082dafcc9d/tensorflow_estimator-1.15.1-py2.py3-none-any.whl (503kB)\n",
            "\u001b[K     |████████████████████████████████| 512kB 46.7MB/s \n",
            "\u001b[?25hCollecting h5py<=2.10.0\n",
            "\u001b[?25l  Downloading https://files.pythonhosted.org/packages/3f/c0/abde58b837e066bca19a3f7332d9d0493521d7dd6b48248451a9e3fe2214/h5py-2.10.0-cp37-cp37m-manylinux1_x86_64.whl (2.9MB)\n",
            "\u001b[K     |████████████████████████████████| 2.9MB 19.4MB/s \n",
            "\u001b[?25hCollecting gast==0.2.2\n",
            "  Downloading https://files.pythonhosted.org/packages/4e/35/11749bf99b2d4e3cceb4d55ca22590b0d7c2c62b9de38ac4a4a7f4687421/gast-0.2.2.tar.gz\n",
            "Requirement already satisfied: absl-py>=0.7.0 in /usr/local/lib/python3.7/dist-packages (from tensorflow<2.0->tf_pose) (0.12.0)\n",
            "Requirement already satisfied: wrapt>=1.11.1 in /usr/local/lib/python3.7/dist-packages (from tensorflow<2.0->tf_pose) (1.12.1)\n",
            "Requirement already satisfied: astor>=0.6.0 in /usr/local/lib/python3.7/dist-packages (from tensorflow<2.0->tf_pose) (0.8.1)\n",
            "Collecting tensorboard<1.16.0,>=1.15.0\n",
            "\u001b[?25l  Downloading https://files.pythonhosted.org/packages/1e/e9/d3d747a97f7188f48aa5eda486907f3b345cd409f0a0850468ba867db246/tensorboard-1.15.0-py3-none-any.whl (3.8MB)\n",
            "\u001b[K     |████████████████████████████████| 3.8MB 15.2MB/s \n",
            "\u001b[?25hRequirement already satisfied: google-pasta>=0.1.6 in /usr/local/lib/python3.7/dist-packages (from tensorflow<2.0->tf_pose) (0.2.0)\n",
            "Requirement already satisfied: wheel>=0.26; python_version >= \"3\" in /usr/local/lib/python3.7/dist-packages (from tensorflow<2.0->tf_pose) (0.36.2)\n",
            "Requirement already satisfied: opt-einsum>=2.3.2 in /usr/local/lib/python3.7/dist-packages (from tensorflow<2.0->tf_pose) (3.3.0)\n",
            "Requirement already satisfied: protobuf>=3.6.1 in /usr/local/lib/python3.7/dist-packages (from tensorflow<2.0->tf_pose) (3.12.4)\n",
            "Requirement already satisfied: keras-preprocessing>=1.0.5 in /usr/local/lib/python3.7/dist-packages (from tensorflow<2.0->tf_pose) (1.1.2)\n",
            "Collecting keras-applications>=1.0.8\n",
            "\u001b[?25l  Downloading https://files.pythonhosted.org/packages/71/e3/19762fdfc62877ae9102edf6342d71b28fbfd9dea3d2f96a882ce099b03f/Keras_Applications-1.0.8-py3-none-any.whl (50kB)\n",
            "\u001b[K     |████████████████████████████████| 51kB 5.4MB/s \n",
            "\u001b[?25hRequirement already satisfied: msgpack>=0.5.2 in /usr/local/lib/python3.7/dist-packages (from tensorpack>=0.8.5->tf_pose) (1.0.2)\n",
            "Requirement already satisfied: tabulate>=0.7.7 in /usr/local/lib/python3.7/dist-packages (from tensorpack>=0.8.5->tf_pose) (0.8.9)\n",
            "Requirement already satisfied: pyzmq>=16 in /usr/local/lib/python3.7/dist-packages (from tensorpack>=0.8.5->tf_pose) (22.1.0)\n",
            "Collecting msgpack-numpy>=0.4.4.2\n",
            "  Downloading https://files.pythonhosted.org/packages/19/05/05b8d7c69c6abb36a34325cc3150089bdafc359f0a81fb998d93c5d5c737/msgpack_numpy-0.4.7.1-py2.py3-none-any.whl\n",
            "Requirement already satisfied: setuptools>=18.0 in /usr/local/lib/python3.7/dist-packages (from pycocotools->tf_pose) (57.0.0)\n",
            "Requirement already satisfied: cython>=0.27.3 in /usr/local/lib/python3.7/dist-packages (from pycocotools->tf_pose) (0.29.23)\n",
            "Requirement already satisfied: decorator<5,>=4.3 in /usr/local/lib/python3.7/dist-packages (from networkx>=2.0->scikit-image>=0.13.1->tf_pose) (4.4.2)\n",
            "Requirement already satisfied: werkzeug>=0.11.15 in /usr/local/lib/python3.7/dist-packages (from tensorboard<1.16.0,>=1.15.0->tensorflow<2.0->tf_pose) (1.0.1)\n",
            "Requirement already satisfied: markdown>=2.6.8 in /usr/local/lib/python3.7/dist-packages (from tensorboard<1.16.0,>=1.15.0->tensorflow<2.0->tf_pose) (3.3.4)\n",
            "Requirement already satisfied: importlib-metadata; python_version < \"3.8\" in /usr/local/lib/python3.7/dist-packages (from markdown>=2.6.8->tensorboard<1.16.0,>=1.15.0->tensorflow<2.0->tf_pose) (4.5.0)\n",
            "Requirement already satisfied: zipp>=0.5 in /usr/local/lib/python3.7/dist-packages (from importlib-metadata; python_version < \"3.8\"->markdown>=2.6.8->tensorboard<1.16.0,>=1.15.0->tensorflow<2.0->tf_pose) (3.4.1)\n",
            "Requirement already satisfied: typing-extensions>=3.6.4; python_version < \"3.8\" in /usr/local/lib/python3.7/dist-packages (from importlib-metadata; python_version < \"3.8\"->markdown>=2.6.8->tensorboard<1.16.0,>=1.15.0->tensorflow<2.0->tf_pose) (3.7.4.3)\n",
            "Building wheels for collected packages: tf-pose, dill, fire, gast\n",
            "  Building wheel for tf-pose (setup.py) ... \u001b[?25l\u001b[?25hdone\n",
            "  Created wheel for tf-pose: filename=tf_pose-0.11.0-cp37-cp37m-linux_x86_64.whl size=7475968 sha256=a1bf76241a6879d49b9e1c7414e6c2bedbee5528dd4ada89146fb2749574e558\n",
            "  Stored in directory: /root/.cache/pip/wheels/2b/ed/67/a63b2651779d6d295143eaad3d4d618c2b9aa0ace41f69f6c4\n",
            "  Building wheel for dill (setup.py) ... \u001b[?25l\u001b[?25hdone\n",
            "  Created wheel for dill: filename=dill-0.2.7.1-cp37-none-any.whl size=54563 sha256=4e8e52e66bf5bab8ff3f9fde74a1bfe3eb52a38314fbb7492da5a137e54b235a\n",
            "  Stored in directory: /root/.cache/pip/wheels/99/c4/ed/1b64d2d5809e60d5a3685530432f6159d6a9959739facb61f2\n",
            "  Building wheel for fire (setup.py) ... \u001b[?25l\u001b[?25hdone\n",
            "  Created wheel for fire: filename=fire-0.4.0-py2.py3-none-any.whl size=115943 sha256=b43de6a073efa2b19b2311f3c4d609b2e80bf3c968d258939db526a48f477694\n",
            "  Stored in directory: /root/.cache/pip/wheels/af/19/30/1ea0cad502dcb4e66ed5a690279628c827aea38bbbab75d5ed\n",
            "  Building wheel for gast (setup.py) ... \u001b[?25l\u001b[?25hdone\n",
            "  Created wheel for gast: filename=gast-0.2.2-cp37-none-any.whl size=7557 sha256=4fb3999263a96e2e8994c554cd831bf3bfa587df10b63a69bbd2e99d6f9e10fd\n",
            "  Stored in directory: /root/.cache/pip/wheels/5c/2e/7e/a1d4d4fcebe6c381f378ce7743a3ced3699feb89bcfbdadadd\n",
            "Successfully built tf-pose dill fire gast\n",
            "\u001b[31mERROR: tensorflow 1.15.5 has requirement numpy<1.19.0,>=1.16.0, but you'll have numpy 1.19.5 which is incompatible.\u001b[0m\n",
            "\u001b[31mERROR: tensorflow-probability 0.12.1 has requirement gast>=0.3.2, but you'll have gast 0.2.2 which is incompatible.\u001b[0m\n",
            "\u001b[31mERROR: multiprocess 0.70.12.2 has requirement dill>=0.3.4, but you'll have dill 0.2.7.1 which is incompatible.\u001b[0m\n",
            "\u001b[31mERROR: kapre 0.3.5 has requirement tensorflow>=2.0.0, but you'll have tensorflow 1.15.5 which is incompatible.\u001b[0m\n",
            "Installing collected packages: argparse, dill, fire, slidingwindow, tensorflow-estimator, h5py, gast, tensorboard, keras-applications, tensorflow, msgpack-numpy, tensorpack, tf-pose\n",
            "  Found existing installation: dill 0.3.4\n",
            "    Uninstalling dill-0.3.4:\n",
            "      Successfully uninstalled dill-0.3.4\n",
            "  Found existing installation: tensorflow-estimator 2.5.0\n",
            "    Uninstalling tensorflow-estimator-2.5.0:\n",
            "      Successfully uninstalled tensorflow-estimator-2.5.0\n",
            "  Found existing installation: h5py 3.1.0\n",
            "    Uninstalling h5py-3.1.0:\n",
            "      Successfully uninstalled h5py-3.1.0\n",
            "  Found existing installation: gast 0.4.0\n",
            "    Uninstalling gast-0.4.0:\n",
            "      Successfully uninstalled gast-0.4.0\n",
            "  Found existing installation: tensorboard 2.5.0\n",
            "    Uninstalling tensorboard-2.5.0:\n",
            "      Successfully uninstalled tensorboard-2.5.0\n",
            "  Found existing installation: tensorflow 2.5.0\n",
            "    Uninstalling tensorflow-2.5.0:\n",
            "      Successfully uninstalled tensorflow-2.5.0\n",
            "Successfully installed argparse-1.4.0 dill-0.2.7.1 fire-0.4.0 gast-0.2.2 h5py-2.10.0 keras-applications-1.0.8 msgpack-numpy-0.4.7.1 slidingwindow-0.0.14 tensorboard-1.15.0 tensorflow-1.15.5 tensorflow-estimator-1.15.1 tensorpack-0.11 tf-pose-0.11.0\n"
          ],
          "name": "stdout"
        },
        {
          "output_type": "display_data",
          "data": {
            "application/vnd.colab-display-data+json": {
              "pip_warning": {
                "packages": [
                  "argparse"
                ]
              }
            }
          },
          "metadata": {
            "tags": []
          }
        }
      ]
    },
    {
      "cell_type": "code",
      "metadata": {
        "colab": {
          "base_uri": "https://localhost:8080/"
        },
        "id": "0v-VlSrea3O9",
        "outputId": "86b7c5ce-39bc-4005-c1ea-baf9830186d9"
      },
      "source": [
        "!python src/s1_get_skeletons_from_training_imgs.py\n",
        "!pip install slidingwindow"
      ],
      "execution_count": 13,
      "outputs": [
        {
          "output_type": "stream",
          "text": [
            "WARNING:tensorflow:\n",
            "The TensorFlow contrib module will not be included in TensorFlow 2.0.\n",
            "For more information, please see:\n",
            "  * https://github.com/tensorflow/community/blob/master/rfcs/20180907-contrib-sunset.md\n",
            "  * https://github.com/tensorflow/addons\n",
            "  * https://github.com/tensorflow/io (for I/O related ops)\n",
            "If you depend on functionality not listed there, please file an issue.\n",
            "\n",
            "WARNING:tensorflow:From /usr/local/lib/python3.7/dist-packages/tf_pose/mobilenet/mobilenet.py:376: The name tf.nn.avg_pool is deprecated. Please use tf.nn.avg_pool2d instead.\n",
            "\n",
            "WARNING:tensorflow:From /content/HAR-Web/Recognizer/src/../utils/lib_openpose.py:47: The name tf.ConfigProto is deprecated. Please use tf.compat.v1.ConfigProto instead.\n",
            "\n",
            "Traceback (most recent call last):\n",
            "  File \"src/s1_get_skeletons_from_training_imgs.py\", line 109, in <module>\n",
            "    skeleton_detector = SkeletonDetector(OPENPOSE_MODEL, OPENPOSE_IMG_SIZE)\n",
            "  File \"/content/HAR-Web/Recognizer/src/../utils/lib_openpose.py\", line 81, in __init__\n",
            "    get_graph_path(self._model), \n",
            "  File \"/usr/local/lib/python3.7/dist-packages/tf_pose/networks.py\", line 230, in get_graph_path\n",
            "    raise Exception(\"Graph file doesn't exist, path=%s\" % graph_path)\n",
            "Exception: Graph file doesn't exist, path=/usr/local/lib/python3.7/dist-packages/tf_pose_data/graph/cmu/graph_opt.pb\n",
            "Requirement already satisfied: slidingwindow in /usr/local/lib/python3.7/dist-packages (0.0.14)\n",
            "Requirement already satisfied: numpy in /usr/local/lib/python3.7/dist-packages (from slidingwindow) (1.19.5)\n",
            "Requirement already satisfied: psutil in /usr/local/lib/python3.7/dist-packages (from slidingwindow) (5.4.8)\n"
          ],
          "name": "stdout"
        }
      ]
    },
    {
      "cell_type": "code",
      "metadata": {
        "colab": {
          "base_uri": "https://localhost:8080/"
        },
        "id": "144hA5MMbSwE",
        "outputId": "c458f3cb-a243-46c4-bcca-1db619a99618"
      },
      "source": [
        "!python src/s1_get_skeletons_from_training_imgs.py"
      ],
      "execution_count": null,
      "outputs": [
        {
          "output_type": "stream",
          "text": [
            "WARNING:tensorflow:\n",
            "The TensorFlow contrib module will not be included in TensorFlow 2.0.\n",
            "For more information, please see:\n",
            "  * https://github.com/tensorflow/community/blob/master/rfcs/20180907-contrib-sunset.md\n",
            "  * https://github.com/tensorflow/addons\n",
            "  * https://github.com/tensorflow/io (for I/O related ops)\n",
            "If you depend on functionality not listed there, please file an issue.\n",
            "\n",
            "WARNING:tensorflow:From /content/HAR-Web/Recognizer/utils/../tf-pose-estimation/tf_pose/mobilenet/mobilenet.py:376: The name tf.nn.avg_pool is deprecated. Please use tf.nn.avg_pool2d instead.\n",
            "\n",
            "2021-06-19 18:08:40.190736: W tensorflow/stream_executor/platform/default/dso_loader.cc:55] Could not load dynamic library 'libnvinfer.so.5'; dlerror: libnvinfer.so.5: cannot open shared object file: No such file or directory; LD_LIBRARY_PATH: /usr/local/nvidia/lib:/usr/local/nvidia/lib64\n",
            "2021-06-19 18:08:40.190892: W tensorflow/stream_executor/platform/default/dso_loader.cc:55] Could not load dynamic library 'libnvinfer_plugin.so.5'; dlerror: libnvinfer_plugin.so.5: cannot open shared object file: No such file or directory; LD_LIBRARY_PATH: /usr/local/nvidia/lib:/usr/local/nvidia/lib64\n",
            "2021-06-19 18:08:40.190916: W tensorflow/compiler/tf2tensorrt/utils/py_utils.cc:30] Cannot dlopen some TensorRT libraries. If you would like to use Nvidia GPU with TensorRT, please make sure the missing libraries mentioned above are installed properly.\n",
            "No module named '_pafprocess'\n",
            "you need to build c++ library for pafprocess. See : https://github.com/ildoonet/tf-pose-estimation/tree/master/tf_pose/pafprocess\n"
          ],
          "name": "stdout"
        }
      ]
    },
    {
      "cell_type": "code",
      "metadata": {
        "colab": {
          "base_uri": "https://localhost:8080/"
        },
        "id": "Zei68oE8cTMY",
        "outputId": "c110debf-4422-4542-9da1-a75516779acf"
      },
      "source": [
        "!python src/s2_put_skeleton_txts_to_a_single_txt.py "
      ],
      "execution_count": 15,
      "outputs": [
        {
          "output_type": "stream",
          "text": [
            "Data length of one skeleton is {data_length}\n",
            "0/2610\n",
            "1/2610\n",
            "100/2610\n",
            "200/2610\n",
            "300/2610\n",
            "400/2610\n",
            "500/2610\n",
            "600/2610\n",
            "700/2610\n",
            "800/2610\n",
            "900/2610\n",
            "1000/2610\n",
            "1100/2610\n",
            "1200/2610\n",
            "1300/2610\n",
            "1400/2610\n",
            "1500/2610\n",
            "1600/2610\n",
            "1700/2610\n",
            "1800/2610\n",
            "1900/2610\n",
            "2000/2610\n",
            "2100/2610\n",
            "2200/2610\n",
            "2300/2610\n",
            "2400/2610\n",
            "2500/2610\n",
            "2600/2610\n",
            "There are 2589 skeleton data.\n",
            "They are saved to /content/HAR-Web/Recognizer/src/../data_proc/raw_skeletons/skeletons_info.txt\n",
            "Number of each action: \n",
            "    stand: 804\n",
            "    walk: 0\n",
            "    run: 0\n",
            "    jump: 0\n",
            "    sit: 0\n",
            "    squat: 0\n",
            "    kick: 720\n",
            "    punch: 804\n",
            "    wave: 261\n"
          ],
          "name": "stdout"
        }
      ]
    },
    {
      "cell_type": "code",
      "metadata": {
        "id": "kfI1A1TjDUDV"
      },
      "source": [
        ""
      ],
      "execution_count": null,
      "outputs": []
    }
  ]
}