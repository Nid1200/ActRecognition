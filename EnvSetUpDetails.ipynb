{
  "nbformat": 4,
  "nbformat_minor": 0,
  "metadata": {
    "colab": {
      "name": "Untitled5.ipynb",
      "provenance": [],
      "authorship_tag": "ABX9TyMcn+ApvTgrB5/0nuox7w6X",
      "include_colab_link": true
    },
    "kernelspec": {
      "name": "python3",
      "display_name": "Python 3"
    },
    "language_info": {
      "name": "python"
    }
  },
  "cells": [
    {
      "cell_type": "markdown",
      "metadata": {
        "id": "view-in-github",
        "colab_type": "text"
      },
      "source": [
        "<a href=\"https://colab.research.google.com/github/Nid1200/ActRecognition/blob/main/EnvSetUpDetails.ipynb\" target=\"_parent\"><img src=\"https://colab.research.google.com/assets/colab-badge.svg\" alt=\"Open In Colab\"/></a>"
      ]
    },
    {
      "cell_type": "code",
      "metadata": {
        "colab": {
          "base_uri": "https://localhost:8080/"
        },
        "id": "ixgN9Ok25In1",
        "outputId": "9db0422e-da37-436d-adbe-b5ea9a23e67d"
      },
      "source": [
        "!git clone https://github.com/felixchenfy/Realtime-Action-Recognition.git"
      ],
      "execution_count": 1,
      "outputs": [
        {
          "output_type": "stream",
          "text": [
            "Cloning into 'Realtime-Action-Recognition'...\n",
            "remote: Enumerating objects: 356, done.\u001b[K\n",
            "remote: Counting objects: 100% (6/6), done.\u001b[K\n",
            "remote: Compressing objects: 100% (4/4), done.\u001b[K\n",
            "remote: Total 356 (delta 2), reused 6 (delta 2), pack-reused 350\u001b[K\n",
            "Receiving objects: 100% (356/356), 6.84 MiB | 20.48 MiB/s, done.\n",
            "Resolving deltas: 100% (154/154), done.\n"
          ],
          "name": "stdout"
        }
      ]
    },
    {
      "cell_type": "code",
      "metadata": {
        "id": "cJFUZdyT5X_8"
      },
      "source": [
        "!cd Realtime-Action-Recognition/src/\n"
      ],
      "execution_count": 2,
      "outputs": []
    },
    {
      "cell_type": "code",
      "metadata": {
        "id": "aF4HFa3e5kyD"
      },
      "source": [
        "!mkdir githubs \n"
      ],
      "execution_count": 3,
      "outputs": []
    },
    {
      "cell_type": "code",
      "metadata": {
        "colab": {
          "base_uri": "https://localhost:8080/",
          "height": 35
        },
        "id": "HRp8vYWS5wqh",
        "outputId": "c52c95af-c968-4e80-f570-c6cfa7e0460a"
      },
      "source": [
        "pwd"
      ],
      "execution_count": 4,
      "outputs": [
        {
          "output_type": "execute_result",
          "data": {
            "application/vnd.google.colaboratory.intrinsic+json": {
              "type": "string"
            },
            "text/plain": [
              "'/content'"
            ]
          },
          "metadata": {},
          "execution_count": 4
        }
      ]
    },
    {
      "cell_type": "code",
      "metadata": {
        "colab": {
          "base_uri": "https://localhost:8080/"
        },
        "id": "_CXfapcO54Xq",
        "outputId": "48cca04e-36d0-4f57-feb5-3b159cb3998f"
      },
      "source": [
        "cd githubs/"
      ],
      "execution_count": 16,
      "outputs": [
        {
          "output_type": "stream",
          "text": [
            "/content/Realtime-Action-Recognition/src/githubs\n"
          ],
          "name": "stdout"
        }
      ]
    },
    {
      "cell_type": "code",
      "metadata": {
        "colab": {
          "base_uri": "https://localhost:8080/"
        },
        "id": "oL0j60uM5__x",
        "outputId": "daa9cbc8-26ae-4dbe-d1c3-723dcd78f7b5"
      },
      "source": [
        "!git clone https://github.com/felixchenfy/ildoonet-tf-pose-estimation\n",
        "\n"
      ],
      "execution_count": 17,
      "outputs": [
        {
          "output_type": "stream",
          "text": [
            "Cloning into 'ildoonet-tf-pose-estimation'...\n",
            "remote: Enumerating objects: 1323, done.\u001b[K\n",
            "remote: Total 1323 (delta 0), reused 0 (delta 0), pack-reused 1323\u001b[K\n",
            "Receiving objects: 100% (1323/1323), 80.11 MiB | 35.27 MiB/s, done.\n",
            "Resolving deltas: 100% (768/768), done.\n"
          ],
          "name": "stdout"
        }
      ]
    },
    {
      "cell_type": "code",
      "metadata": {
        "id": "6P35pe0o6fG9"
      },
      "source": [
        "mv ildoonet-tf-pose-estimation tf-pose-estimation\n"
      ],
      "execution_count": 18,
      "outputs": []
    },
    {
      "cell_type": "code",
      "metadata": {
        "colab": {
          "base_uri": "https://localhost:8080/"
        },
        "id": "3v0QZd4Q6kdz",
        "outputId": "b6920dd2-8ad0-414c-ffd1-e4405cf4caed"
      },
      "source": [
        "!wget -c https://repo.anaconda.com/miniconda/Miniconda3-4.5.4-Linux-x86_64.sh\n",
        "!chmod +x Miniconda3-4.5.4-Linux-x86_64.sh\n",
        "!bash ./Miniconda3-4.5.4-Linux-x86_64.sh -b -f -p /usr/local\n",
        "# update 1\n",
        "!conda install -q -y --prefix /usr/local python=3.6 ujson\n",
        "# update 2\n",
        "import sys\n",
        "sys.path.append('/usr/local/lib/python3.6/site-packages')\n",
        "# test it\n"
      ],
      "execution_count": 24,
      "outputs": [
        {
          "output_type": "stream",
          "text": [
            "--2021-08-24 11:42:45--  https://repo.anaconda.com/miniconda/Miniconda3-4.5.4-Linux-x86_64.sh\n",
            "Resolving repo.anaconda.com (repo.anaconda.com)... 104.16.130.3, 104.16.131.3, 2606:4700::6810:8303, ...\n",
            "Connecting to repo.anaconda.com (repo.anaconda.com)|104.16.130.3|:443... connected.\n",
            "HTTP request sent, awaiting response... 416 Requested Range Not Satisfiable\n",
            "\n",
            "    The file is already fully retrieved; nothing to do.\n",
            "\n",
            "PREFIX=/usr/local\n",
            "installing: python-3.6.5-hc3d631a_2 ...\n",
            "Python 3.6.5 :: Anaconda, Inc.\n",
            "installing: ca-certificates-2018.03.07-0 ...\n",
            "installing: conda-env-2.6.0-h36134e3_1 ...\n",
            "installing: libgcc-ng-7.2.0-hdf63c60_3 ...\n",
            "installing: libstdcxx-ng-7.2.0-hdf63c60_3 ...\n",
            "installing: libffi-3.2.1-hd88cf55_4 ...\n",
            "installing: ncurses-6.1-hf484d3e_0 ...\n",
            "installing: openssl-1.0.2o-h20670df_0 ...\n",
            "installing: tk-8.6.7-hc745277_3 ...\n",
            "installing: xz-5.2.4-h14c3975_4 ...\n",
            "installing: yaml-0.1.7-had09818_2 ...\n",
            "installing: zlib-1.2.11-ha838bed_2 ...\n",
            "installing: libedit-3.1.20170329-h6b74fdf_2 ...\n",
            "installing: readline-7.0-ha6073c6_4 ...\n",
            "installing: sqlite-3.23.1-he433501_0 ...\n",
            "installing: asn1crypto-0.24.0-py36_0 ...\n",
            "installing: certifi-2018.4.16-py36_0 ...\n",
            "installing: chardet-3.0.4-py36h0f667ec_1 ...\n",
            "installing: idna-2.6-py36h82fb2a8_1 ...\n",
            "installing: pycosat-0.6.3-py36h0a5515d_0 ...\n",
            "installing: pycparser-2.18-py36hf9f622e_1 ...\n",
            "installing: pysocks-1.6.8-py36_0 ...\n",
            "installing: ruamel_yaml-0.15.37-py36h14c3975_2 ...\n",
            "installing: six-1.11.0-py36h372c433_1 ...\n",
            "installing: cffi-1.11.5-py36h9745a5d_0 ...\n",
            "installing: setuptools-39.2.0-py36_0 ...\n",
            "installing: cryptography-2.2.2-py36h14c3975_0 ...\n",
            "installing: wheel-0.31.1-py36_0 ...\n",
            "installing: pip-10.0.1-py36_0 ...\n",
            "installing: pyopenssl-18.0.0-py36_0 ...\n",
            "installing: urllib3-1.22-py36hbe7ace6_0 ...\n",
            "installing: requests-2.18.4-py36he2e5f8d_1 ...\n",
            "installing: conda-4.5.4-py36_0 ...\n",
            "unlinking: ca-certificates-2021.7.5-h06a4308_1\n",
            "unlinking: certifi-2021.5.30-py36h06a4308_0\n",
            "unlinking: libffi-3.3-he6710b0_2\n",
            "unlinking: libgcc-ng-9.1.0-hdf63c60_0\n",
            "unlinking: libstdcxx-ng-9.1.0-hdf63c60_0\n",
            "unlinking: ncurses-6.2-he6710b0_1\n",
            "unlinking: openssl-1.1.1k-h27cfd23_0\n",
            "unlinking: pip-21.2.2-py36h06a4308_0\n",
            "unlinking: python-3.6.13-h12debd9_1\n",
            "unlinking: readline-8.1-h27cfd23_0\n",
            "unlinking: setuptools-52.0.0-py36h06a4308_0\n",
            "unlinking: sqlite-3.36.0-hc218d9a_0\n",
            "unlinking: tk-8.6.10-hbc83047_0\n",
            "unlinking: wheel-0.37.0-pyhd3eb1b0_0\n",
            "unlinking: xz-5.2.5-h7b6447c_0\n",
            "unlinking: zlib-1.2.11-h7b6447c_3\n",
            "installation finished.\n",
            "WARNING:\n",
            "    You currently have a PYTHONPATH environment variable set. This may cause\n",
            "    unexpected behavior when running the Python interpreter in Miniconda3.\n",
            "    For best results, please verify that your PYTHONPATH only points to\n",
            "    directories of packages that are compatible with the Python interpreter\n",
            "    in Miniconda3: /usr/local\n",
            "Solving environment: ...working... done\n",
            "\n",
            "## Package Plan ##\n",
            "\n",
            "  environment location: /usr/local\n",
            "\n",
            "  added / updated specs: \n",
            "    - python=3.6\n",
            "    - ujson\n",
            "\n",
            "\n",
            "The following packages will be downloaded:\n",
            "\n",
            "    package                    |            build\n",
            "    ---------------------------|-----------------\n",
            "    cryptography-3.4.7         |   py36hd23ed53_0         1.0 MB\n",
            "    conda-4.10.3               |   py36h06a4308_0         3.1 MB\n",
            "    tqdm-4.62.1                |     pyhd3eb1b0_1          80 KB\n",
            "    conda-package-handling-1.7.3|   py36h27cfd23_1         946 KB\n",
            "    cffi-1.14.6                |   py36h400218f_0         224 KB\n",
            "    ------------------------------------------------------------\n",
            "                                           Total:         5.3 MB\n",
            "\n",
            "The following NEW packages will be INSTALLED:\n",
            "\n",
            "    conda-package-handling: 1.7.3-py36h27cfd23_1 \n",
            "    tqdm:                   4.62.1-pyhd3eb1b0_1  \n",
            "\n",
            "The following packages will be UPDATED:\n",
            "\n",
            "    ca-certificates:        2018.03.07-0          --> 2021.7.5-h06a4308_1     \n",
            "    certifi:                2018.4.16-py36_0      --> 2021.5.30-py36h06a4308_0\n",
            "    cffi:                   1.11.5-py36h9745a5d_0 --> 1.14.6-py36h400218f_0   \n",
            "    conda:                  4.5.4-py36_0          --> 4.10.3-py36h06a4308_0   \n",
            "    cryptography:           2.2.2-py36h14c3975_0  --> 3.4.7-py36hd23ed53_0    \n",
            "    libffi:                 3.2.1-hd88cf55_4      --> 3.3-he6710b0_2          \n",
            "    libgcc-ng:              7.2.0-hdf63c60_3      --> 9.1.0-hdf63c60_0        \n",
            "    libstdcxx-ng:           7.2.0-hdf63c60_3      --> 9.1.0-hdf63c60_0        \n",
            "    ncurses:                6.1-hf484d3e_0        --> 6.2-he6710b0_1          \n",
            "    openssl:                1.0.2o-h20670df_0     --> 1.1.1k-h27cfd23_0       \n",
            "    python:                 3.6.5-hc3d631a_2      --> 3.6.13-h12debd9_1       \n",
            "    readline:               7.0-ha6073c6_4        --> 8.1-h27cfd23_0          \n",
            "    sqlite:                 3.23.1-he433501_0     --> 3.36.0-hc218d9a_0       \n",
            "    tk:                     8.6.7-hc745277_3      --> 8.6.10-hbc83047_0       \n",
            "    xz:                     5.2.4-h14c3975_4      --> 5.2.5-h7b6447c_0        \n",
            "\n",
            "Preparing transaction: ...working... done\n",
            "Verifying transaction: ...working... done\n",
            "Executing transaction: ...working... done\n"
          ],
          "name": "stdout"
        }
      ]
    },
    {
      "cell_type": "code",
      "metadata": {
        "colab": {
          "base_uri": "https://localhost:8080/"
        },
        "id": "wnL3Oegl8OyX",
        "outputId": "55a73e0b-e969-4c64-cf58-348a8aa87583"
      },
      "source": [
        "!pip install ujson"
      ],
      "execution_count": 23,
      "outputs": [
        {
          "output_type": "stream",
          "text": [
            "Requirement already satisfied: ujson in /usr/local/lib/python3.6/site-packages (4.0.2)\n",
            "\u001b[33mWARNING: Running pip as the 'root' user can result in broken permissions and conflicting behaviour with the system package manager. It is recommended to use a virtual environment instead: https://pip.pypa.io/warnings/venv\u001b[0m\n"
          ],
          "name": "stdout"
        }
      ]
    },
    {
      "cell_type": "code",
      "metadata": {
        "colab": {
          "base_uri": "https://localhost:8080/"
        },
        "id": "kQxv9Oka9noS",
        "outputId": "21d19ab1-30a4-4867-9a50-c9cabb99849d"
      },
      "source": [
        "!conda create -n tf tensorflow-gpu\n",
        "!conda activate tf"
      ],
      "execution_count": 27,
      "outputs": [
        {
          "output_type": "stream",
          "text": [
            "Collecting package metadata (current_repodata.json): - \b\b\\ \b\b| \b\b/ \b\b- \b\b\\ \b\b| \b\b/ \b\b- \b\b\\ \b\b| \b\b/ \b\b- \b\b\\ \b\b| \b\b/ \b\b- \b\b\\ \b\b| \b\b/ \b\b- \b\b\\ \b\bdone\n",
            "Solving environment: / \b\b- \b\b\\ \b\b| \b\b/ \b\bfailed with repodata from current_repodata.json, will retry with next repodata source.\n",
            "Collecting package metadata (repodata.json): \\ \b\b| \b\b/ \b\b- \b\b\\ \b\b| \b\b/ \b\b- \b\b\\ \b\b| \b\b/ \b\b- \b\b\\ \b\b| \b\b/ \b\b- \b\b\\ \b\b| \b\b/ \b\b- \b\b\\ \b\b| \b\b/ \b\b- \b\b\\ \b\b| \b\b/ \b\b- \b\b\\ \b\b| \b\b/ \b\b- \b\b\\ \b\b| \b\b/ \b\b- \b\b\\ \b\b| \b\b/ \b\b- \b\b\\ \b\b| \b\b/ \b\b- \b\b\\ \b\b| \b\b/ \b\b- \b\b\\ \b\b| \b\b/ \b\b- \b\bdone\n",
            "Solving environment: | \b\b/ \b\b- \b\b\\ \b\b| \b\b/ \b\b- \b\b\\ \b\b| \b\b/ \b\b- \b\b\\ \b\b| \b\b/ \b\b- \b\b\\ \b\b| \b\b/ \b\b- \b\b\\ \b\b| \b\b/ \b\b- \b\b\\ \b\b| \b\b/ \b\b- \b\b\\ \b\b| \b\b/ \b\b- \b\b\\ \b\b| \b\b/ \b\b- \b\b\\ \b\b| \b\b/ \b\b- \b\b\\ \b\b| \b\b/ \b\b- \b\b\\ \b\b| \b\b/ \b\b- \b\b\\ \b\b| \b\b/ \b\b- \b\b\\ \b\b| \b\b/ \b\b- \b\b\\ \b\b| \b\b/ \b\b- \b\b\\ \b\b| \b\b/ \b\b- \b\b\\ \b\b| \b\b/ \b\b- \b\b\\ \b\b| \b\b/ \b\b- \b\b\\ \b\b| \b\b/ \b\b- \b\b\\ \b\b| \b\b/ \b\b- \b\b\\ \b\b| \b\b/ \b\b- \b\b\\ \b\b| \b\b/ \b\b- \b\b\\ \b\b| \b\b/ \b\b- \b\b\\ \b\b| \b\b/ \b\b- \b\b\\ \b\b| \b\b/ \b\b- \b\b\\ \b\b| \b\b/ \b\b- \b\b\\ \b\b| \b\b/ \b\b- \b\b\\ \b\b| \b\b/ \b\b- \b\b\\ \b\b| \b\b/ \b\b- \b\b\\ \b\b| \b\b/ \b\b- \b\b\\ \b\b| \b\b/ \b\b- \b\b\\ \b\b| \b\b/ \b\b- \b\b\\ \b\b| \b\b/ \b\b- \b\b\\ \b\b| \b\b/ \b\b- \b\b\\ \b\b| \b\b/ \b\b- \b\b\\ \b\b| \b\b/ \b\b- \b\b\\ \b\b| \b\b/ \b\b- \b\b\\ \b\b| \b\b/ \b\b- \b\b\\ \b\b| \b\b/ \b\b- \b\b\\ \b\b| \b\b/ \b\b- \b\b\\ \b\b| \b\b/ \b\b- \b\b\\ \b\b| \b\b/ \b\b- \b\b\\ \b\b| \b\b/ \b\b- \b\b\\ \b\b| \b\b/ \b\b- \b\b\\ \b\b| \b\b/ \b\b- \b\b\\ \b\b| \b\b/ \b\b- \b\b\\ \b\b| \b\b/ \b\b- \b\b\\ \b\b| \b\b/ \b\b- \b\b\\ \b\b| \b\b/ \b\b- \b\b\\ \b\b| \b\b/ \b\b- \b\b\\ \b\b| \b\b/ \b\b- \b\b\\ \b\b| \b\b/ \b\b- \b\b\\ \b\b| \b\b/ \b\b- \b\b\\ \b\b| \b\b/ \b\b- \b\b\\ \b\b| \b\b/ \b\b- \b\b\\ \b\b| \b\b/ \b\b- \b\b\\ \b\b| \b\b/ \b\b- \b\b\\ \b\b| \b\b/ \b\b- \b\b\\ \b\bdone\n",
            "\n",
            "## Package Plan ##\n",
            "\n",
            "  environment location: /usr/local/envs/tf\n",
            "\n",
            "  added / updated specs:\n",
            "    - tensorflow-gpu\n",
            "\n",
            "\n",
            "The following packages will be downloaded:\n",
            "\n",
            "    package                    |            build\n",
            "    ---------------------------|-----------------\n",
            "    _openmp_mutex-4.5          |            1_gnu          22 KB\n",
            "    _tflow_select-2.1.0        |              gpu           2 KB\n",
            "    absl-py-0.13.0             |   py39h06a4308_0         178 KB\n",
            "    aiohttp-3.7.4              |   py39h27cfd23_1         542 KB\n",
            "    astor-0.8.1                |   py39h06a4308_0          47 KB\n",
            "    astunparse-1.6.3           |             py_0          17 KB\n",
            "    async-timeout-3.0.1        |   py39h06a4308_0          13 KB\n",
            "    attrs-21.2.0               |     pyhd3eb1b0_0          46 KB\n",
            "    blas-1.0                   |              mkl           6 KB\n",
            "    blinker-1.4                |   py39h06a4308_0          23 KB\n",
            "    brotlipy-0.7.0             |py39h27cfd23_1003         324 KB\n",
            "    c-ares-1.17.1              |       h27cfd23_0         108 KB\n",
            "    cachetools-4.2.2           |     pyhd3eb1b0_0          13 KB\n",
            "    certifi-2021.5.30          |   py39h06a4308_0         139 KB\n",
            "    cffi-1.14.6                |   py39h400218f_0         225 KB\n",
            "    chardet-3.0.4              |py39h06a4308_1003         174 KB\n",
            "    click-8.0.1                |     pyhd3eb1b0_0          79 KB\n",
            "    coverage-5.5               |   py39h27cfd23_2         259 KB\n",
            "    cryptography-3.4.7         |   py39hd23ed53_0         906 KB\n",
            "    cudatoolkit-10.1.243       |       h6bb024c_0       347.4 MB\n",
            "    cudnn-7.6.5                |       cuda10.1_0       179.9 MB\n",
            "    cupti-10.1.168             |                0         1.4 MB\n",
            "    cython-0.29.24             |   py39h295c915_0         2.0 MB\n",
            "    gast-0.4.0                 |     pyhd3eb1b0_0          13 KB\n",
            "    google-auth-1.33.0         |     pyhd3eb1b0_0          80 KB\n",
            "    google-auth-oauthlib-0.4.4 |     pyhd3eb1b0_0          18 KB\n",
            "    google-pasta-0.2.0         |             py_0          46 KB\n",
            "    grpcio-1.36.1              |   py39h2157cd5_1         1.9 MB\n",
            "    h5py-2.10.0                |   py39hec9cf62_0         946 KB\n",
            "    hdf5-1.10.6                |       hb1b8bf9_0         3.7 MB\n",
            "    idna-2.10                  |     pyhd3eb1b0_0          52 KB\n",
            "    importlib-metadata-3.10.0  |   py39h06a4308_0          33 KB\n",
            "    intel-openmp-2021.3.0      |    h06a4308_3350         1.4 MB\n",
            "    keras-preprocessing-1.1.2  |     pyhd3eb1b0_0          35 KB\n",
            "    libgcc-ng-9.3.0            |      h5101ec6_17         4.8 MB\n",
            "    libgfortran-ng-7.5.0       |      ha8ba4b0_17          22 KB\n",
            "    libgfortran4-7.5.0         |      ha8ba4b0_17         995 KB\n",
            "    libgomp-9.3.0              |      h5101ec6_17         311 KB\n",
            "    libprotobuf-3.17.2         |       h4ff587b_1         2.0 MB\n",
            "    libstdcxx-ng-9.3.0         |      hd4cf53a_17         3.1 MB\n",
            "    markdown-3.3.4             |   py39h06a4308_0         129 KB\n",
            "    mkl-2021.3.0               |     h06a4308_520       141.2 MB\n",
            "    mkl-service-2.4.0          |   py39h7f8727e_0          59 KB\n",
            "    mkl_fft-1.3.0              |   py39h42c9631_2         179 KB\n",
            "    mkl_random-1.2.2           |   py39h51133e4_0         309 KB\n",
            "    multidict-5.1.0            |   py39h27cfd23_2          69 KB\n",
            "    numpy-1.20.3               |   py39hf144106_0          23 KB\n",
            "    numpy-base-1.20.3          |   py39h74d4b33_0         4.6 MB\n",
            "    oauthlib-3.1.1             |     pyhd3eb1b0_0          90 KB\n",
            "    opt_einsum-3.3.0           |     pyhd3eb1b0_1          57 KB\n",
            "    pip-21.2.4                 |   py37h06a4308_0         1.8 MB\n",
            "    protobuf-3.17.2            |   py39h295c915_0         322 KB\n",
            "    pyasn1-0.4.8               |             py_0          57 KB\n",
            "    pyasn1-modules-0.2.8       |             py_0          72 KB\n",
            "    pycparser-2.20             |             py_2          94 KB\n",
            "    pyjwt-2.1.0                |   py39h06a4308_0          32 KB\n",
            "    pyopenssl-20.0.1           |     pyhd3eb1b0_1          49 KB\n",
            "    pysocks-1.7.1              |   py39h06a4308_0          31 KB\n",
            "    python-3.9.6               |       h12debd9_1        18.4 MB\n",
            "    python-flatbuffers-1.12    |     pyhd3eb1b0_0          24 KB\n",
            "    requests-2.25.1            |     pyhd3eb1b0_0          52 KB\n",
            "    requests-oauthlib-1.3.0    |             py_0          23 KB\n",
            "    rsa-4.7.2                  |     pyhd3eb1b0_1          28 KB\n",
            "    scipy-1.6.2                |   py39had2a1c9_1        15.9 MB\n",
            "    setuptools-52.0.0          |   py39h06a4308_0         724 KB\n",
            "    six-1.16.0                 |     pyhd3eb1b0_0          18 KB\n",
            "    tensorboard-2.4.0          |     pyhc547734_0         8.8 MB\n",
            "    tensorboard-plugin-wit-1.6.0|             py_0         630 KB\n",
            "    tensorflow-2.4.1           |gpu_py39h8236f22_0           4 KB\n",
            "    tensorflow-base-2.4.1      |gpu_py39h29c2da4_0       195.2 MB\n",
            "    tensorflow-estimator-2.5.0 |     pyh7b7c402_0         267 KB\n",
            "    tensorflow-gpu-2.4.1       |       h30adc30_0           3 KB\n",
            "    termcolor-1.1.0            |   py39h06a4308_1           9 KB\n",
            "    typing-extensions-3.10.0.0 |       hd3eb1b0_0           8 KB\n",
            "    typing_extensions-3.10.0.0 |     pyh06a4308_0          27 KB\n",
            "    tzdata-2021a               |       h5d7bf9c_0         111 KB\n",
            "    urllib3-1.26.6             |     pyhd3eb1b0_1         112 KB\n",
            "    werkzeug-1.0.1             |     pyhd3eb1b0_0         239 KB\n",
            "    wrapt-1.12.1               |   py39he8ac12f_1          50 KB\n",
            "    yarl-1.6.3                 |   py39h27cfd23_0         136 KB\n",
            "    zipp-3.5.0                 |     pyhd3eb1b0_0          13 KB\n",
            "    ------------------------------------------------------------\n",
            "                                           Total:       943.0 MB\n",
            "\n",
            "The following NEW packages will be INSTALLED:\n",
            "\n",
            "  _libgcc_mutex      pkgs/main/linux-64::_libgcc_mutex-0.1-main\n",
            "  _openmp_mutex      pkgs/main/linux-64::_openmp_mutex-4.5-1_gnu\n",
            "  _tflow_select      pkgs/main/linux-64::_tflow_select-2.1.0-gpu\n",
            "  absl-py            pkgs/main/linux-64::absl-py-0.13.0-py39h06a4308_0\n",
            "  aiohttp            pkgs/main/linux-64::aiohttp-3.7.4-py39h27cfd23_1\n",
            "  astor              pkgs/main/linux-64::astor-0.8.1-py39h06a4308_0\n",
            "  astunparse         pkgs/main/noarch::astunparse-1.6.3-py_0\n",
            "  async-timeout      pkgs/main/linux-64::async-timeout-3.0.1-py39h06a4308_0\n",
            "  attrs              pkgs/main/noarch::attrs-21.2.0-pyhd3eb1b0_0\n",
            "  blas               pkgs/main/linux-64::blas-1.0-mkl\n",
            "  blinker            pkgs/main/linux-64::blinker-1.4-py39h06a4308_0\n",
            "  brotlipy           pkgs/main/linux-64::brotlipy-0.7.0-py39h27cfd23_1003\n",
            "  c-ares             pkgs/main/linux-64::c-ares-1.17.1-h27cfd23_0\n",
            "  ca-certificates    pkgs/main/linux-64::ca-certificates-2021.7.5-h06a4308_1\n",
            "  cachetools         pkgs/main/noarch::cachetools-4.2.2-pyhd3eb1b0_0\n",
            "  certifi            pkgs/main/linux-64::certifi-2021.5.30-py39h06a4308_0\n",
            "  cffi               pkgs/main/linux-64::cffi-1.14.6-py39h400218f_0\n",
            "  chardet            pkgs/main/linux-64::chardet-3.0.4-py39h06a4308_1003\n",
            "  click              pkgs/main/noarch::click-8.0.1-pyhd3eb1b0_0\n",
            "  coverage           pkgs/main/linux-64::coverage-5.5-py39h27cfd23_2\n",
            "  cryptography       pkgs/main/linux-64::cryptography-3.4.7-py39hd23ed53_0\n",
            "  cudatoolkit        pkgs/main/linux-64::cudatoolkit-10.1.243-h6bb024c_0\n",
            "  cudnn              pkgs/main/linux-64::cudnn-7.6.5-cuda10.1_0\n",
            "  cupti              pkgs/main/linux-64::cupti-10.1.168-0\n",
            "  cython             pkgs/main/linux-64::cython-0.29.24-py39h295c915_0\n",
            "  gast               pkgs/main/noarch::gast-0.4.0-pyhd3eb1b0_0\n",
            "  google-auth        pkgs/main/noarch::google-auth-1.33.0-pyhd3eb1b0_0\n",
            "  google-auth-oauth~ pkgs/main/noarch::google-auth-oauthlib-0.4.4-pyhd3eb1b0_0\n",
            "  google-pasta       pkgs/main/noarch::google-pasta-0.2.0-py_0\n",
            "  grpcio             pkgs/main/linux-64::grpcio-1.36.1-py39h2157cd5_1\n",
            "  h5py               pkgs/main/linux-64::h5py-2.10.0-py39hec9cf62_0\n",
            "  hdf5               pkgs/main/linux-64::hdf5-1.10.6-hb1b8bf9_0\n",
            "  idna               pkgs/main/noarch::idna-2.10-pyhd3eb1b0_0\n",
            "  importlib-metadata pkgs/main/linux-64::importlib-metadata-3.10.0-py39h06a4308_0\n",
            "  intel-openmp       pkgs/main/linux-64::intel-openmp-2021.3.0-h06a4308_3350\n",
            "  keras-preprocessi~ pkgs/main/noarch::keras-preprocessing-1.1.2-pyhd3eb1b0_0\n",
            "  ld_impl_linux-64   pkgs/main/linux-64::ld_impl_linux-64-2.35.1-h7274673_9\n",
            "  libffi             pkgs/main/linux-64::libffi-3.3-he6710b0_2\n",
            "  libgcc-ng          pkgs/main/linux-64::libgcc-ng-9.3.0-h5101ec6_17\n",
            "  libgfortran-ng     pkgs/main/linux-64::libgfortran-ng-7.5.0-ha8ba4b0_17\n",
            "  libgfortran4       pkgs/main/linux-64::libgfortran4-7.5.0-ha8ba4b0_17\n",
            "  libgomp            pkgs/main/linux-64::libgomp-9.3.0-h5101ec6_17\n",
            "  libprotobuf        pkgs/main/linux-64::libprotobuf-3.17.2-h4ff587b_1\n",
            "  libstdcxx-ng       pkgs/main/linux-64::libstdcxx-ng-9.3.0-hd4cf53a_17\n",
            "  markdown           pkgs/main/linux-64::markdown-3.3.4-py39h06a4308_0\n",
            "  mkl                pkgs/main/linux-64::mkl-2021.3.0-h06a4308_520\n",
            "  mkl-service        pkgs/main/linux-64::mkl-service-2.4.0-py39h7f8727e_0\n",
            "  mkl_fft            pkgs/main/linux-64::mkl_fft-1.3.0-py39h42c9631_2\n",
            "  mkl_random         pkgs/main/linux-64::mkl_random-1.2.2-py39h51133e4_0\n",
            "  multidict          pkgs/main/linux-64::multidict-5.1.0-py39h27cfd23_2\n",
            "  ncurses            pkgs/main/linux-64::ncurses-6.2-he6710b0_1\n",
            "  numpy              pkgs/main/linux-64::numpy-1.20.3-py39hf144106_0\n",
            "  numpy-base         pkgs/main/linux-64::numpy-base-1.20.3-py39h74d4b33_0\n",
            "  oauthlib           pkgs/main/noarch::oauthlib-3.1.1-pyhd3eb1b0_0\n",
            "  openssl            pkgs/main/linux-64::openssl-1.1.1k-h27cfd23_0\n",
            "  opt_einsum         pkgs/main/noarch::opt_einsum-3.3.0-pyhd3eb1b0_1\n",
            "  pip                pkgs/main/linux-64::pip-21.2.4-py37h06a4308_0\n",
            "  protobuf           pkgs/main/linux-64::protobuf-3.17.2-py39h295c915_0\n",
            "  pyasn1             pkgs/main/noarch::pyasn1-0.4.8-py_0\n",
            "  pyasn1-modules     pkgs/main/noarch::pyasn1-modules-0.2.8-py_0\n",
            "  pycparser          pkgs/main/noarch::pycparser-2.20-py_2\n",
            "  pyjwt              pkgs/main/linux-64::pyjwt-2.1.0-py39h06a4308_0\n",
            "  pyopenssl          pkgs/main/noarch::pyopenssl-20.0.1-pyhd3eb1b0_1\n",
            "  pysocks            pkgs/main/linux-64::pysocks-1.7.1-py39h06a4308_0\n",
            "  python             pkgs/main/linux-64::python-3.9.6-h12debd9_1\n",
            "  python-flatbuffers pkgs/main/noarch::python-flatbuffers-1.12-pyhd3eb1b0_0\n",
            "  readline           pkgs/main/linux-64::readline-8.1-h27cfd23_0\n",
            "  requests           pkgs/main/noarch::requests-2.25.1-pyhd3eb1b0_0\n",
            "  requests-oauthlib  pkgs/main/noarch::requests-oauthlib-1.3.0-py_0\n",
            "  rsa                pkgs/main/noarch::rsa-4.7.2-pyhd3eb1b0_1\n",
            "  scipy              pkgs/main/linux-64::scipy-1.6.2-py39had2a1c9_1\n",
            "  setuptools         pkgs/main/linux-64::setuptools-52.0.0-py39h06a4308_0\n",
            "  six                pkgs/main/noarch::six-1.16.0-pyhd3eb1b0_0\n",
            "  sqlite             pkgs/main/linux-64::sqlite-3.36.0-hc218d9a_0\n",
            "  tensorboard        pkgs/main/noarch::tensorboard-2.4.0-pyhc547734_0\n",
            "  tensorboard-plugi~ pkgs/main/noarch::tensorboard-plugin-wit-1.6.0-py_0\n",
            "  tensorflow         pkgs/main/linux-64::tensorflow-2.4.1-gpu_py39h8236f22_0\n",
            "  tensorflow-base    pkgs/main/linux-64::tensorflow-base-2.4.1-gpu_py39h29c2da4_0\n",
            "  tensorflow-estima~ pkgs/main/noarch::tensorflow-estimator-2.5.0-pyh7b7c402_0\n",
            "  tensorflow-gpu     pkgs/main/linux-64::tensorflow-gpu-2.4.1-h30adc30_0\n",
            "  termcolor          pkgs/main/linux-64::termcolor-1.1.0-py39h06a4308_1\n",
            "  tk                 pkgs/main/linux-64::tk-8.6.10-hbc83047_0\n",
            "  typing-extensions  pkgs/main/noarch::typing-extensions-3.10.0.0-hd3eb1b0_0\n",
            "  typing_extensions  pkgs/main/noarch::typing_extensions-3.10.0.0-pyh06a4308_0\n",
            "  tzdata             pkgs/main/noarch::tzdata-2021a-h5d7bf9c_0\n",
            "  urllib3            pkgs/main/noarch::urllib3-1.26.6-pyhd3eb1b0_1\n",
            "  werkzeug           pkgs/main/noarch::werkzeug-1.0.1-pyhd3eb1b0_0\n",
            "  wheel              pkgs/main/noarch::wheel-0.37.0-pyhd3eb1b0_0\n",
            "  wrapt              pkgs/main/linux-64::wrapt-1.12.1-py39he8ac12f_1\n",
            "  xz                 pkgs/main/linux-64::xz-5.2.5-h7b6447c_0\n",
            "  yarl               pkgs/main/linux-64::yarl-1.6.3-py39h27cfd23_0\n",
            "  zipp               pkgs/main/noarch::zipp-3.5.0-pyhd3eb1b0_0\n",
            "  zlib               pkgs/main/linux-64::zlib-1.2.11-h7b6447c_3\n",
            "\n",
            "\n",
            "Proceed ([y]/n)? y\n",
            "\n",
            "\n",
            "Downloading and Extracting Packages\n",
            "brotlipy-0.7.0       | 324 KB    | : 100% 1.0/1 [00:00<00:00,  5.52it/s]                \n",
            "_tflow_select-2.1.0  | 2 KB      | : 100% 1.0/1 [00:00<00:00, 14.10it/s]\n",
            "requests-2.25.1      | 52 KB     | : 100% 1.0/1 [00:00<00:00, 12.22it/s]\n",
            "cython-0.29.24       | 2.0 MB    | : 100% 1.0/1 [00:00<00:00,  4.68it/s]\n",
            "cffi-1.14.6          | 225 KB    | : 100% 1.0/1 [00:00<00:00, 13.28it/s]\n",
            "pyjwt-2.1.0          | 32 KB     | : 100% 1.0/1 [00:00<00:00, 13.98it/s]\n",
            "cupti-10.1.168       | 1.4 MB    | : 100% 1.0/1 [00:00<00:00,  8.60it/s]\n",
            "_openmp_mutex-4.5    | 22 KB     | : 100% 1.0/1 [00:00<00:00, 19.14it/s]\n",
            "markdown-3.3.4       | 129 KB    | : 100% 1.0/1 [00:00<00:00, 11.23it/s]\n",
            "urllib3-1.26.6       | 112 KB    | : 100% 1.0/1 [00:00<00:00, 13.75it/s]\n",
            "blas-1.0             | 6 KB      | : 100% 1.0/1 [00:00<00:00, 15.61it/s]\n",
            "google-auth-oauthlib | 18 KB     | : 100% 1.0/1 [00:00<00:00, 13.84it/s]\n",
            "zipp-3.5.0           | 13 KB     | : 100% 1.0/1 [00:00<00:00, 14.40it/s]\n",
            "tensorboard-2.4.0    | 8.8 MB    | : 100% 1.0/1 [00:00<00:00,  2.97it/s]               \n",
            "async-timeout-3.0.1  | 13 KB     | : 100% 1.0/1 [00:00<00:00, 13.07it/s]\n",
            "libprotobuf-3.17.2   | 2.0 MB    | : 100% 1.0/1 [00:00<00:00,  6.14it/s]\n",
            "tensorflow-gpu-2.4.1 | 3 KB      | : 100% 1.0/1 [00:00<00:00, 14.67it/s]\n",
            "termcolor-1.1.0      | 9 KB      | : 100% 1.0/1 [00:00<00:00, 14.04it/s]\n",
            "cachetools-4.2.2     | 13 KB     | : 100% 1.0/1 [00:00<00:00, 11.82it/s]\n",
            "libgfortran4-7.5.0   | 995 KB    | : 100% 1.0/1 [00:00<00:00,  9.30it/s]\n",
            "rsa-4.7.2            | 28 KB     | : 100% 1.0/1 [00:00<00:00, 13.10it/s]\n",
            "libstdcxx-ng-9.3.0   | 3.1 MB    | : 100% 1.0/1 [00:00<00:00,  5.21it/s]\n",
            "google-pasta-0.2.0   | 46 KB     | : 100% 1.0/1 [00:00<00:00, 13.12it/s]\n",
            "six-1.16.0           | 18 KB     | : 100% 1.0/1 [00:00<00:00, 13.53it/s]\n",
            "typing_extensions-3. | 27 KB     | : 100% 1.0/1 [00:00<00:00, 13.61it/s]\n",
            "tzdata-2021a         | 111 KB    | : 100% 1.0/1 [00:00<00:00,  8.19it/s]\n",
            "pyasn1-0.4.8         | 57 KB     | : 100% 1.0/1 [00:00<00:00, 12.05it/s]\n",
            "setuptools-52.0.0    | 724 KB    | : 100% 1.0/1 [00:00<00:00,  7.71it/s]\n",
            "scipy-1.6.2          | 15.9 MB   | : 100% 1.0/1 [00:01<00:00,  1.04s/it]               \n",
            "tensorflow-estimator | 267 KB    | : 100% 1.0/1 [00:00<00:00, 10.53it/s]\n",
            "cudnn-7.6.5          | 179.9 MB  | : 100% 1.0/1 [00:05<00:00,  5.15s/it]               \n",
            "numpy-1.20.3         | 23 KB     | : 100% 1.0/1 [00:00<00:00, 11.64it/s]\n",
            "multidict-5.1.0      | 69 KB     | : 100% 1.0/1 [00:00<00:00, 11.82it/s]\n",
            "mkl_random-1.2.2     | 309 KB    | : 100% 1.0/1 [00:00<00:00, 10.93it/s]\n",
            "pycparser-2.20       | 94 KB     | : 100% 1.0/1 [00:00<00:00, 11.49it/s]\n",
            "attrs-21.2.0         | 46 KB     | : 100% 1.0/1 [00:00<00:00, 14.24it/s]\n",
            "cudatoolkit-10.1.243 | 347.4 MB  | : 100% 1.0/1 [00:28<00:00, 28.44s/it] \n",
            "mkl-2021.3.0         | 141.2 MB  | : 100% 1.0/1 [00:31<00:00, 31.31s/it]               \n",
            "yarl-1.6.3           | 136 KB    | : 100% 1.0/1 [00:00<00:00,  6.75it/s]\n",
            "pyopenssl-20.0.1     | 49 KB     | : 100% 1.0/1 [00:00<00:00, 11.27it/s]\n",
            "pyasn1-modules-0.2.8 | 72 KB     | : 100% 1.0/1 [00:00<00:00, 10.75it/s]\n",
            "astunparse-1.6.3     | 17 KB     | : 100% 1.0/1 [00:00<00:00, 13.02it/s]\n",
            "numpy-base-1.20.3    | 4.6 MB    | : 100% 1.0/1 [00:00<00:00,  2.49it/s]\n",
            "hdf5-1.10.6          | 3.7 MB    | : 100% 1.0/1 [00:00<00:00,  4.65it/s]\n",
            "python-flatbuffers-1 | 24 KB     | : 100% 1.0/1 [00:00<00:00, 14.07it/s]\n",
            "wrapt-1.12.1         | 50 KB     | : 100% 1.0/1 [00:00<00:00, 13.19it/s]\n",
            "opt_einsum-3.3.0     | 57 KB     | : 100% 1.0/1 [00:00<00:00, 13.23it/s]\n",
            "idna-2.10            | 52 KB     | : 100% 1.0/1 [00:00<00:00, 20.46it/s]\n",
            "intel-openmp-2021.3. | 1.4 MB    | : 100% 1.0/1 [00:00<00:00,  8.02it/s]\n",
            "astor-0.8.1          | 47 KB     | : 100% 1.0/1 [00:00<00:00, 12.93it/s]\n",
            "aiohttp-3.7.4        | 542 KB    | : 100% 1.0/1 [00:00<00:00,  7.14it/s]\n",
            "typing-extensions-3. | 8 KB      | : 100% 1.0/1 [00:00<00:00, 13.86it/s]\n",
            "requests-oauthlib-1. | 23 KB     | : 100% 1.0/1 [00:00<00:00, 13.97it/s]\n",
            "mkl_fft-1.3.0        | 179 KB    | : 100% 1.0/1 [00:00<00:00, 12.46it/s]\n",
            "c-ares-1.17.1        | 108 KB    | : 100% 1.0/1 [00:00<00:00, 10.32it/s]\n",
            "libgfortran-ng-7.5.0 | 22 KB     | : 100% 1.0/1 [00:00<00:00, 10.77it/s]\n",
            "gast-0.4.0           | 13 KB     | : 100% 1.0/1 [00:00<00:00, 12.64it/s]\n",
            "keras-preprocessing- | 35 KB     | : 100% 1.0/1 [00:00<00:00, 14.35it/s]\n",
            "click-8.0.1          | 79 KB     | : 100% 1.0/1 [00:00<00:00, 14.54it/s]\n",
            "pip-21.2.4           | 1.8 MB    | : 100% 1.0/1 [00:00<00:00,  2.67it/s]\n",
            "tensorflow-base-2.4. | 195.2 MB  | : 100% 1.0/1 [00:37<00:00, 37.51s/it]               \n",
            "mkl-service-2.4.0    | 59 KB     | : 100% 1.0/1 [00:00<00:00, 13.25it/s]\n",
            "importlib-metadata-3 | 33 KB     | : 100% 1.0/1 [00:00<00:00, 13.47it/s]\n",
            "absl-py-0.13.0       | 178 KB    | : 100% 1.0/1 [00:00<00:00, 11.92it/s]\n",
            "cryptography-3.4.7   | 906 KB    | : 100% 1.0/1 [00:00<00:00,  6.83it/s]\n",
            "libgcc-ng-9.3.0      | 4.8 MB    | : 100% 1.0/1 [00:00<00:00,  2.93it/s]               \n",
            "h5py-2.10.0          | 946 KB    | : 100% 1.0/1 [00:00<00:00,  5.90it/s]\n",
            "blinker-1.4          | 23 KB     | : 100% 1.0/1 [00:01<00:00,  1.84s/it]\n",
            "pysocks-1.7.1        | 31 KB     | : 100% 1.0/1 [00:00<00:00,  3.85it/s]\n",
            "werkzeug-1.0.1       | 239 KB    | : 100% 1.0/1 [00:00<00:00,  7.46it/s]\n",
            "libgomp-9.3.0        | 311 KB    | : 100% 1.0/1 [00:00<00:00, 11.87it/s]\n",
            "certifi-2021.5.30    | 139 KB    | : 100% 1.0/1 [00:00<00:00, 12.08it/s]\n",
            "oauthlib-3.1.1       | 90 KB     | : 100% 1.0/1 [00:00<00:00, 11.99it/s]\n",
            "chardet-3.0.4        | 174 KB    | : 100% 1.0/1 [00:00<00:00,  8.96it/s]\n",
            "grpcio-1.36.1        | 1.9 MB    | : 100% 1.0/1 [00:00<00:00,  5.05it/s]\n",
            "python-3.9.6         | 18.4 MB   | : 100% 1.0/1 [00:01<00:00,  1.25s/it]               \n",
            "coverage-5.5         | 259 KB    | : 100% 1.0/1 [00:00<00:00,  9.81it/s]\n",
            "tensorboard-plugin-w | 630 KB    | : 100% 1.0/1 [00:00<00:00,  9.64it/s]\n",
            "google-auth-1.33.0   | 80 KB     | : 100% 1.0/1 [00:00<00:00, 11.32it/s]\n",
            "tensorflow-2.4.1     | 4 KB      | : 100% 1.0/1 [00:00<00:00, 10.41it/s]\n",
            "protobuf-3.17.2      | 322 KB    | : 100% 1.0/1 [00:00<00:00, 11.34it/s]\n",
            "Preparing transaction: / \b\b- \b\b\\ \b\b| \b\b/ \b\b- \b\b\\ \b\b| \b\b/ \b\b- \b\b\\ \b\b| \b\bdone\n",
            "Verifying transaction: - \b\b\\ \b\b| \b\b/ \b\b- \b\b\\ \b\b| \b\b/ \b\b- \b\b\\ \b\b| \b\b/ \b\b- \b\b\\ \b\b| \b\b/ \b\b- \b\b\\ \b\b| \b\b/ \b\b- \b\b\\ \b\b| \b\b/ \b\b- \b\b\\ \b\b| \b\b/ \b\b- \b\b\\ \b\b| \b\b/ \b\b- \b\b\\ \b\b| \b\b/ \b\b- \b\b\\ \b\b| \b\b/ \b\b- \b\b\\ \b\b| \b\b/ \b\b- \b\b\\ \b\b| \b\b/ \b\bdone\n",
            "Executing transaction: \\ \b\b| \b\b/ \b\b- \b\b\\ \b\b| \b\b/ \b\b- \b\b\\ \b\b| \b\b/ \b\b- \b\b\\ \b\b| \b\b/ \b\b- \b\b\\ \b\b| \b\b/ \b\b- \b\b\\ \b\b| \b\b/ \b\b- \b\b\\ \b\b| \b\b/ \b\b- \b\b\\ \b\b| \b\b/ \b\b- \b\b\\ \b\b| \b\b/ \b\b- \b\b\\ \b\b| \b\b/ \b\b- \b\b\\ \b\b| \b\b/ \b\b- \b\b\\ \b\b| \b\b/ \b\b- \b\b\\ \b\b| \b\b/ \b\b- \b\b\\ \b\b| \b\b/ \b\bdone\n",
            "#\n",
            "# To activate this environment, use\n",
            "#\n",
            "#     $ conda activate tf\n",
            "#\n",
            "# To deactivate an active environment, use\n",
            "#\n",
            "#     $ conda deactivate\n",
            "\n",
            "\n",
            "CommandNotFoundError: Your shell has not been properly configured to use 'conda activate'.\n",
            "To initialize your shell, run\n",
            "\n",
            "    $ conda init <SHELL_NAME>\n",
            "\n",
            "Currently supported shells are:\n",
            "  - bash\n",
            "  - fish\n",
            "  - tcsh\n",
            "  - xonsh\n",
            "  - zsh\n",
            "  - powershell\n",
            "\n",
            "See 'conda init --help' for more information and options.\n",
            "\n",
            "IMPORTANT: You may need to close and restart your shell after running 'conda init'.\n",
            "\n",
            "\n"
          ],
          "name": "stdout"
        }
      ]
    },
    {
      "cell_type": "code",
      "metadata": {
        "colab": {
          "base_uri": "https://localhost:8080/",
          "height": 35
        },
        "id": "5NZrWDLi_Lya",
        "outputId": "0a6cd52d-1f5f-48f1-9231-fd31cb6c64a4"
      },
      "source": [
        "pwd\n"
      ],
      "execution_count": 28,
      "outputs": [
        {
          "output_type": "execute_result",
          "data": {
            "application/vnd.google.colaboratory.intrinsic+json": {
              "type": "string"
            },
            "text/plain": [
              "'/content/Realtime-Action-Recognition/src/githubs'"
            ]
          },
          "metadata": {},
          "execution_count": 28
        }
      ]
    },
    {
      "cell_type": "code",
      "metadata": {
        "colab": {
          "base_uri": "https://localhost:8080/"
        },
        "id": "fW2gvAje_TYS",
        "outputId": "1199ee91-ad22-431b-a2b9-17d1ad41b23a"
      },
      "source": [
        "cd tf-pose-estimation/"
      ],
      "execution_count": 29,
      "outputs": [
        {
          "output_type": "stream",
          "text": [
            "/content/Realtime-Action-Recognition/src/githubs/tf-pose-estimation\n"
          ],
          "name": "stdout"
        }
      ]
    },
    {
      "cell_type": "code",
      "metadata": {
        "colab": {
          "base_uri": "https://localhost:8080/",
          "height": 1000
        },
        "id": "iOjlA9p9_bbX",
        "outputId": "f169cf8c-80fd-4a50-bc68-66593d798137"
      },
      "source": [
        "!pip install -r requirements.txt\n",
        "!pip install jupyter tqdm"
      ],
      "execution_count": 31,
      "outputs": [
        {
          "output_type": "stream",
          "text": [
            "Collecting git+https://github.com/ppwwyyxx/tensorpack.git (from -r requirements.txt (line 13))\n",
            "  Cloning https://github.com/ppwwyyxx/tensorpack.git to /tmp/pip-req-build-687qq0yz\n",
            "Collecting argparse (from -r requirements.txt (line 1))\n",
            "  Downloading https://files.pythonhosted.org/packages/f2/94/3af39d34be01a24a6e65433d19e107099374224905f1e0cc6bbe1fd22a2f/argparse-1.4.0-py2.py3-none-any.whl\n",
            "Collecting dill (from -r requirements.txt (line 2))\n",
            "\u001b[?25l  Downloading https://files.pythonhosted.org/packages/b6/c3/973676ceb86b60835bb3978c6db67a5dc06be6cfdbd14ef0f5a13e3fc9fd/dill-0.3.4-py2.py3-none-any.whl (86kB)\n",
            "\u001b[K    100% |████████████████████████████████| 92kB 6.5MB/s \n",
            "\u001b[?25hCollecting fire (from -r requirements.txt (line 3))\n",
            "\u001b[?25l  Downloading https://files.pythonhosted.org/packages/11/07/a119a1aa04d37bc819940d95ed7e135a7dcca1c098123a3764a6dcace9e7/fire-0.4.0.tar.gz (87kB)\n",
            "\u001b[K    100% |████████████████████████████████| 92kB 26.5MB/s \n",
            "\u001b[?25hCollecting matplotlib (from -r requirements.txt (line 4))\n",
            "\u001b[?25l  Downloading https://files.pythonhosted.org/packages/09/03/b7b30fa81cb687d1178e085d0f01111ceaea3bf81f9330c937fb6f6c8ca0/matplotlib-3.3.4-cp36-cp36m-manylinux1_x86_64.whl (11.5MB)\n",
            "\u001b[K    100% |████████████████████████████████| 11.5MB 3.0MB/s \n",
            "\u001b[?25hCollecting numba (from -r requirements.txt (line 5))\n",
            "\u001b[?25l  Downloading https://files.pythonhosted.org/packages/e3/7d/3d61160836e49f40913741c464f119551c15ed371c1d91ea50308495b93b/numba-0.53.1.tar.gz (2.2MB)\n",
            "\u001b[K    100% |████████████████████████████████| 2.2MB 13.4MB/s \n",
            "\u001b[31mCommand \"python setup.py egg_info\" failed with error code 1 in /tmp/pip-install-298n6x8_/numba/\u001b[0m\n",
            "\u001b[?25hCollecting jupyter\n",
            "  Downloading https://files.pythonhosted.org/packages/83/df/0f5dd132200728a86190397e1ea87cd76244e42d39ec5e88efd25b2abd7e/jupyter-1.0.0-py2.py3-none-any.whl\n",
            "Requirement already satisfied: tqdm in /usr/local/lib/python3.6/site-packages (4.62.1)\n",
            "Collecting ipywidgets (from jupyter)\n",
            "\u001b[?25l  Downloading https://files.pythonhosted.org/packages/11/53/084940a83a8158364e630a664a30b03068c25ab75243224d6b488800d43a/ipywidgets-7.6.3-py2.py3-none-any.whl (121kB)\n",
            "\u001b[K    100% |████████████████████████████████| 122kB 5.4MB/s \n",
            "\u001b[?25hCollecting nbconvert (from jupyter)\n",
            "\u001b[?25l  Downloading https://files.pythonhosted.org/packages/13/2f/acbe7006548f3914456ee47f97a2033b1b2f3daf921b12ac94105d87c163/nbconvert-6.0.7-py3-none-any.whl (552kB)\n",
            "\u001b[K    100% |████████████████████████████████| 552kB 18.0MB/s \n",
            "\u001b[?25hCollecting qtconsole (from jupyter)\n",
            "\u001b[?25l  Downloading https://files.pythonhosted.org/packages/3a/57/c8fc1fc6fb6bc03caca20ace9cd0ac0e16cc052b51cbe3acbeeb53abcb18/qtconsole-5.1.1-py3-none-any.whl (119kB)\n",
            "\u001b[K    100% |████████████████████████████████| 122kB 33.7MB/s \n",
            "\u001b[?25hCollecting jupyter-console (from jupyter)\n",
            "  Downloading https://files.pythonhosted.org/packages/59/cd/aa2670ffc99eb3e5bbe2294c71e4bf46a9804af4f378d09d7a8950996c9b/jupyter_console-6.4.0-py3-none-any.whl\n",
            "Collecting notebook (from jupyter)\n",
            "\u001b[?25l  Downloading https://files.pythonhosted.org/packages/3c/0e/9883ebfa204c7328fab473e04bda8066b00960fadc6698972afa62ddf0ce/notebook-6.4.3-py3-none-any.whl (9.9MB)\n",
            "\u001b[K    100% |████████████████████████████████| 9.9MB 3.4MB/s \n",
            "\u001b[?25hCollecting ipykernel (from jupyter)\n",
            "\u001b[?25l  Downloading https://files.pythonhosted.org/packages/90/6d/6c8fe4b658f77947d4244ce81f60230c4c8d1dc1a21ae83e63b269339178/ipykernel-5.5.5-py3-none-any.whl (120kB)\n",
            "\u001b[K    100% |████████████████████████████████| 122kB 32.4MB/s \n",
            "\u001b[?25hCollecting ipython>=4.0.0; python_version >= \"3.3\" (from ipywidgets->jupyter)\n",
            "\u001b[?25l  Downloading https://files.pythonhosted.org/packages/23/6a/210816c943c9aeeb29e4e18a298f14bf0e118fe222a23e13bfcc2d41b0a4/ipython-7.16.1-py3-none-any.whl (785kB)\n",
            "\u001b[K    100% |████████████████████████████████| 788kB 21.9MB/s \n",
            "\u001b[?25hCollecting traitlets>=4.3.1 (from ipywidgets->jupyter)\n",
            "\u001b[?25l  Downloading https://files.pythonhosted.org/packages/ca/ab/872a23e29cec3cf2594af7e857f18b687ad21039c1f9b922fac5b9b142d5/traitlets-4.3.3-py2.py3-none-any.whl (75kB)\n",
            "\u001b[K    100% |████████████████████████████████| 81kB 27.0MB/s \n",
            "\u001b[?25hCollecting nbformat>=4.2.0 (from ipywidgets->jupyter)\n",
            "\u001b[?25l  Downloading https://files.pythonhosted.org/packages/e7/c7/dd50978c637a7af8234909277c4e7ec1b71310c13fb3135f3c8f5b6e045f/nbformat-5.1.3-py3-none-any.whl (178kB)\n",
            "\u001b[K    100% |████████████████████████████████| 184kB 32.3MB/s \n",
            "\u001b[?25hCollecting widgetsnbextension~=3.5.0 (from ipywidgets->jupyter)\n",
            "\u001b[?25l  Downloading https://files.pythonhosted.org/packages/6c/7b/7ac231c20d2d33c445eaacf8a433f4e22c60677eb9776c7c5262d7ddee2d/widgetsnbextension-3.5.1-py2.py3-none-any.whl (2.2MB)\n",
            "\u001b[K    100% |████████████████████████████████| 2.2MB 13.9MB/s \n",
            "\u001b[?25hCollecting jupyterlab-widgets>=1.0.0; python_version >= \"3.6\" (from ipywidgets->jupyter)\n",
            "\u001b[?25l  Downloading https://files.pythonhosted.org/packages/18/b5/3473d275e3b2359efdf5768e9df95537308b93a31ad94fa92814ac565826/jupyterlab_widgets-1.0.0-py3-none-any.whl (243kB)\n",
            "\u001b[K    100% |████████████████████████████████| 245kB 28.9MB/s \n",
            "\u001b[?25hCollecting jinja2>=2.4 (from nbconvert->jupyter)\n",
            "\u001b[?25l  Downloading https://files.pythonhosted.org/packages/80/21/ae597efc7ed8caaa43fb35062288baaf99a7d43ff0cf66452ddf47604ee6/Jinja2-3.0.1-py3-none-any.whl (133kB)\n",
            "\u001b[K    100% |████████████████████████████████| 143kB 38.2MB/s \n",
            "\u001b[?25hCollecting bleach (from nbconvert->jupyter)\n",
            "\u001b[?25l  Downloading https://files.pythonhosted.org/packages/b6/23/d06c0bddcef0df58dd2c9ac02f8639533a6671bed0ef3e236888bb3b0a3c/bleach-4.0.0-py2.py3-none-any.whl (146kB)\n",
            "\u001b[K    100% |████████████████████████████████| 153kB 36.1MB/s \n",
            "\u001b[?25hCollecting defusedxml (from nbconvert->jupyter)\n",
            "  Downloading https://files.pythonhosted.org/packages/07/6c/aa3f2f849e01cb6a001cd8554a88d4c77c5c1a31c95bdf1cf9301e6d9ef4/defusedxml-0.7.1-py2.py3-none-any.whl\n",
            "Collecting pygments>=2.4.1 (from nbconvert->jupyter)\n",
            "\u001b[?25l  Downloading https://files.pythonhosted.org/packages/78/c8/8d9be2f72d8f465461f22b5f199c04f7ada933add4dae6e2468133c17471/Pygments-2.10.0-py3-none-any.whl (1.0MB)\n",
            "\u001b[K    100% |████████████████████████████████| 1.0MB 17.2MB/s \n",
            "\u001b[?25hCollecting entrypoints>=0.2.2 (from nbconvert->jupyter)\n",
            "  Downloading https://files.pythonhosted.org/packages/ac/c6/44694103f8c221443ee6b0041f69e2740d89a25641e62fb4f2ee568f2f9c/entrypoints-0.3-py2.py3-none-any.whl\n",
            "Collecting jupyterlab-pygments (from nbconvert->jupyter)\n",
            "  Downloading https://files.pythonhosted.org/packages/a8/6f/c34288766797193b512c6508f5994b830fb06134fdc4ca8214daba0aa443/jupyterlab_pygments-0.1.2-py2.py3-none-any.whl\n",
            "Collecting mistune<2,>=0.8.1 (from nbconvert->jupyter)\n",
            "  Downloading https://files.pythonhosted.org/packages/09/ec/4b43dae793655b7d8a25f76119624350b4d65eb663459eb9603d7f1f0345/mistune-0.8.4-py2.py3-none-any.whl\n",
            "Collecting jupyter-core (from nbconvert->jupyter)\n",
            "\u001b[?25l  Downloading https://files.pythonhosted.org/packages/53/40/5af36bffa0af3ac71d3a6fc6709de10e4f6ff7c01745b8bc4715372189c9/jupyter_core-4.7.1-py3-none-any.whl (82kB)\n",
            "\u001b[K    100% |████████████████████████████████| 92kB 29.6MB/s \n",
            "\u001b[?25hCollecting nbclient<0.6.0,>=0.5.0 (from nbconvert->jupyter)\n",
            "\u001b[?25l  Downloading https://files.pythonhosted.org/packages/a7/ed/b764fa931614cb7ed9bebbc42532daecef405d6bef660eeda882f6c23b98/nbclient-0.5.4-py3-none-any.whl (66kB)\n",
            "\u001b[K    100% |████████████████████████████████| 71kB 26.2MB/s \n",
            "\u001b[?25hCollecting testpath (from nbconvert->jupyter)\n",
            "\u001b[?25l  Downloading https://files.pythonhosted.org/packages/ac/87/5422f6d056bfbded920ccf380a65de3713a3b95a95ba2255be2a3fb4f464/testpath-0.5.0-py3-none-any.whl (84kB)\n",
            "\u001b[K    100% |████████████████████████████████| 92kB 28.1MB/s \n",
            "\u001b[?25hCollecting pandocfilters>=1.4.1 (from nbconvert->jupyter)\n",
            "  Downloading https://files.pythonhosted.org/packages/28/78/bd59a9adb72fa139b1c9c186e6f65aebee52375a747e4b6a6dcf0880956f/pandocfilters-1.4.3.tar.gz\n",
            "Collecting pyzmq>=17.1 (from qtconsole->jupyter)\n",
            "\u001b[?25l  Downloading https://files.pythonhosted.org/packages/d8/d7/5b8beb223f042dd7b20ce9e95cca146daffc34e187931c475447140d552e/pyzmq-22.2.1-cp36-cp36m-manylinux_2_5_x86_64.manylinux1_x86_64.whl (1.1MB)\n",
            "\u001b[K    100% |████████████████████████████████| 1.1MB 20.7MB/s \n",
            "\u001b[?25hCollecting ipython-genutils (from qtconsole->jupyter)\n",
            "  Downloading https://files.pythonhosted.org/packages/fa/bc/9bd3b5c2b4774d5f33b2d544f1460be9df7df2fe42f352135381c347c69a/ipython_genutils-0.2.0-py2.py3-none-any.whl\n",
            "Collecting qtpy (from qtconsole->jupyter)\n",
            "\u001b[?25l  Downloading https://files.pythonhosted.org/packages/21/0d/1cc56aa1df049d9f989520ee8214a6ccfd236095d56060967afdb0b8f0d8/QtPy-1.10.0-py2.py3-none-any.whl (54kB)\n",
            "\u001b[K    100% |████████████████████████████████| 61kB 21.8MB/s \n",
            "\u001b[?25hCollecting jupyter-client>=4.1 (from qtconsole->jupyter)\n",
            "\u001b[?25l  Downloading https://files.pythonhosted.org/packages/b0/21/2104133f07e34f58712c87f0feaacdd38b5baff1ddb6ab72bb4baf16fc4a/jupyter_client-7.0.1-py3-none-any.whl (122kB)\n",
            "\u001b[K    100% |████████████████████████████████| 122kB 27.7MB/s \n",
            "\u001b[?25hCollecting prompt-toolkit!=3.0.0,!=3.0.1,<3.1.0,>=2.0.0 (from jupyter-console->jupyter)\n",
            "\u001b[?25l  Downloading https://files.pythonhosted.org/packages/c6/37/ec72228971dbaf191243b8ee383c6a3834b5cde23daab066dfbfbbd5438b/prompt_toolkit-3.0.20-py3-none-any.whl (370kB)\n",
            "\u001b[K    100% |████████████████████████████████| 378kB 25.5MB/s \n",
            "\u001b[?25hCollecting terminado>=0.8.3 (from notebook->jupyter)\n",
            "  Downloading https://files.pythonhosted.org/packages/5b/a8/0c428a9a2432b611566b0309d1a50a051f4ec965ce274528c4ba6b6c0205/terminado-0.11.1-py3-none-any.whl\n",
            "Collecting argon2-cffi (from notebook->jupyter)\n",
            "\u001b[?25l  Downloading https://files.pythonhosted.org/packages/e0/d7/5da06217807106ed6d7b4f5ccb8ec5e3f9ec969217faad4b5d1af0b55101/argon2_cffi-20.1.0-cp35-abi3-manylinux1_x86_64.whl (97kB)\n",
            "\u001b[K    100% |████████████████████████████████| 102kB 13.4MB/s \n",
            "\u001b[?25hCollecting Send2Trash>=1.5.0 (from notebook->jupyter)\n",
            "  Downloading https://files.pythonhosted.org/packages/47/26/3435896d757335ea53dce5abf8d658ca80757a7a06258451b358f10232be/Send2Trash-1.8.0-py3-none-any.whl\n",
            "Collecting prometheus-client (from notebook->jupyter)\n",
            "\u001b[?25l  Downloading https://files.pythonhosted.org/packages/09/da/4e8471ff825769581593b5b84769d32f58e5373b59fccaf355d3529ad530/prometheus_client-0.11.0-py2.py3-none-any.whl (56kB)\n",
            "\u001b[K    100% |████████████████████████████████| 61kB 18.7MB/s \n",
            "\u001b[?25hCollecting tornado>=6.1 (from notebook->jupyter)\n",
            "\u001b[?25l  Downloading https://files.pythonhosted.org/packages/01/d1/8750ad20cbcefb499bb8b405e243f83c2c89f78d139e6f8c8d800640f554/tornado-6.1-cp36-cp36m-manylinux1_x86_64.whl (427kB)\n",
            "\u001b[K    100% |████████████████████████████████| 430kB 20.7MB/s \n",
            "\u001b[?25hRequirement already satisfied: setuptools>=18.5 in /usr/local/lib/python3.6/site-packages (from ipython>=4.0.0; python_version >= \"3.3\"->ipywidgets->jupyter) (39.2.0)\n",
            "Collecting pexpect; sys_platform != \"win32\" (from ipython>=4.0.0; python_version >= \"3.3\"->ipywidgets->jupyter)\n",
            "\u001b[?25l  Downloading https://files.pythonhosted.org/packages/39/7b/88dbb785881c28a102619d46423cb853b46dbccc70d3ac362d99773a78ce/pexpect-4.8.0-py2.py3-none-any.whl (59kB)\n",
            "\u001b[K    100% |████████████████████████████████| 61kB 16.3MB/s \n",
            "\u001b[?25hCollecting jedi>=0.10 (from ipython>=4.0.0; python_version >= \"3.3\"->ipywidgets->jupyter)\n",
            "\u001b[?25l  Downloading https://files.pythonhosted.org/packages/f9/36/7aa67ae2663025b49e8426ead0bad983fee1b73f472536e9790655da0277/jedi-0.18.0-py2.py3-none-any.whl (1.4MB)\n",
            "\u001b[K    100% |████████████████████████████████| 1.4MB 13.5MB/s \n",
            "\u001b[?25hCollecting decorator (from ipython>=4.0.0; python_version >= \"3.3\"->ipywidgets->jupyter)\n",
            "  Downloading https://files.pythonhosted.org/packages/6a/36/b1b9bfdf28690ae01d9ca0aa5b0d07cb4448ac65fb91dc7e2d094e3d992f/decorator-5.0.9-py3-none-any.whl\n",
            "Collecting backcall (from ipython>=4.0.0; python_version >= \"3.3\"->ipywidgets->jupyter)\n",
            "  Downloading https://files.pythonhosted.org/packages/4c/1c/ff6546b6c12603d8dd1070aa3c3d273ad4c07f5771689a7b69a550e8c951/backcall-0.2.0-py2.py3-none-any.whl\n",
            "Collecting pickleshare (from ipython>=4.0.0; python_version >= \"3.3\"->ipywidgets->jupyter)\n",
            "  Downloading https://files.pythonhosted.org/packages/9a/41/220f49aaea88bc6fa6cba8d05ecf24676326156c23b991e80b3f2fc24c77/pickleshare-0.7.5-py2.py3-none-any.whl\n",
            "Requirement already satisfied: six in /usr/local/lib/python3.6/site-packages (from traitlets>=4.3.1->ipywidgets->jupyter) (1.11.0)\n",
            "Collecting jsonschema!=2.5.0,>=2.4 (from nbformat>=4.2.0->ipywidgets->jupyter)\n",
            "\u001b[?25l  Downloading https://files.pythonhosted.org/packages/c5/8f/51e89ce52a085483359217bc72cdbf6e75ee595d5b1d4b5ade40c7e018b8/jsonschema-3.2.0-py2.py3-none-any.whl (56kB)\n",
            "\u001b[K    100% |████████████████████████████████| 61kB 23.7MB/s \n",
            "\u001b[?25hCollecting MarkupSafe>=2.0 (from jinja2>=2.4->nbconvert->jupyter)\n",
            "  Downloading https://files.pythonhosted.org/packages/fc/d6/57f9a97e56447a1e340f8574836d3b636e2c14de304943836bd645fa9c7e/MarkupSafe-2.0.1-cp36-cp36m-manylinux1_x86_64.whl\n",
            "Collecting packaging (from bleach->nbconvert->jupyter)\n",
            "\u001b[?25l  Downloading https://files.pythonhosted.org/packages/3c/77/e2362b676dc5008d81be423070dd9577fa03be5da2ba1105811900fda546/packaging-21.0-py3-none-any.whl (40kB)\n",
            "\u001b[K    100% |████████████████████████████████| 40kB 13.7MB/s \n",
            "\u001b[?25hCollecting webencodings (from bleach->nbconvert->jupyter)\n",
            "  Downloading https://files.pythonhosted.org/packages/f4/24/2a3e3df732393fed8b3ebf2ec078f05546de641fe1b667ee316ec1dcf3b7/webencodings-0.5.1-py2.py3-none-any.whl\n",
            "Collecting async-generator; python_version < \"3.7\" (from nbclient<0.6.0,>=0.5.0->nbconvert->jupyter)\n",
            "  Downloading https://files.pythonhosted.org/packages/71/52/39d20e03abd0ac9159c162ec24b93fbcaa111e8400308f2465432495ca2b/async_generator-1.10-py3-none-any.whl\n",
            "Collecting nest-asyncio (from nbclient<0.6.0,>=0.5.0->nbconvert->jupyter)\n",
            "  Downloading https://files.pythonhosted.org/packages/52/e2/9b37da54e6e9094d2f558ae643d1954a0fa8215dfee4fa261f31c5439796/nest_asyncio-1.5.1-py3-none-any.whl\n",
            "Collecting python-dateutil>=2.1 (from jupyter-client>=4.1->qtconsole->jupyter)\n",
            "\u001b[?25l  Downloading https://files.pythonhosted.org/packages/36/7a/87837f39d0296e723bb9b62bbb257d0355c7f6128853c78955f57342a56d/python_dateutil-2.8.2-py2.py3-none-any.whl (247kB)\n",
            "\u001b[K    100% |████████████████████████████████| 256kB 25.5MB/s \n",
            "\u001b[?25hCollecting wcwidth (from prompt-toolkit!=3.0.0,!=3.0.1,<3.1.0,>=2.0.0->jupyter-console->jupyter)\n",
            "  Downloading https://files.pythonhosted.org/packages/59/7c/e39aca596badaf1b78e8f547c807b04dae603a433d3e7a7e04d67f2ef3e5/wcwidth-0.2.5-py2.py3-none-any.whl\n",
            "Collecting ptyprocess; os_name != \"nt\" (from terminado>=0.8.3->notebook->jupyter)\n",
            "  Downloading https://files.pythonhosted.org/packages/22/a6/858897256d0deac81a172289110f31629fc4cee19b6f01283303e18c8db3/ptyprocess-0.7.0-py2.py3-none-any.whl\n",
            "Requirement already satisfied: cffi>=1.0.0 in /usr/local/lib/python3.6/site-packages (from argon2-cffi->notebook->jupyter) (1.14.6)\n",
            "Collecting parso<0.9.0,>=0.8.0 (from jedi>=0.10->ipython>=4.0.0; python_version >= \"3.3\"->ipywidgets->jupyter)\n",
            "\u001b[?25l  Downloading https://files.pythonhosted.org/packages/a9/c4/d5476373088c120ffed82f34c74b266ccae31a68d665b837354d4d8dc8be/parso-0.8.2-py2.py3-none-any.whl (94kB)\n",
            "\u001b[K    100% |████████████████████████████████| 102kB 25.1MB/s \n",
            "\u001b[?25hCollecting importlib-metadata; python_version < \"3.8\" (from jsonschema!=2.5.0,>=2.4->nbformat>=4.2.0->ipywidgets->jupyter)\n",
            "  Downloading https://files.pythonhosted.org/packages/c0/72/4512a88e402d4dc3bab49a845130d95ac48936ef3a9469b55cc79a60d84d/importlib_metadata-4.6.4-py3-none-any.whl\n",
            "Collecting pyrsistent>=0.14.0 (from jsonschema!=2.5.0,>=2.4->nbformat>=4.2.0->ipywidgets->jupyter)\n",
            "\u001b[?25l  Downloading https://files.pythonhosted.org/packages/6c/19/1af501f6f388a40ede6d0185ba481bdb18ffc99deab0dd0d092b173bc0f4/pyrsistent-0.18.0-cp36-cp36m-manylinux1_x86_64.whl (117kB)\n",
            "\u001b[K    100% |████████████████████████████████| 122kB 24.6MB/s \n",
            "\u001b[?25hCollecting attrs>=17.4.0 (from jsonschema!=2.5.0,>=2.4->nbformat>=4.2.0->ipywidgets->jupyter)\n",
            "\u001b[?25l  Downloading https://files.pythonhosted.org/packages/20/a9/ba6f1cd1a1517ff022b35acd6a7e4246371dfab08b8e42b829b6d07913cc/attrs-21.2.0-py2.py3-none-any.whl (53kB)\n",
            "\u001b[K    100% |████████████████████████████████| 61kB 23.8MB/s \n",
            "\u001b[?25hCollecting pyparsing>=2.0.2 (from packaging->bleach->nbconvert->jupyter)\n",
            "\u001b[?25l  Downloading https://files.pythonhosted.org/packages/8a/bb/488841f56197b13700afd5658fc279a2025a39e22449b7cf29864669b15d/pyparsing-2.4.7-py2.py3-none-any.whl (67kB)\n",
            "\u001b[K    100% |████████████████████████████████| 71kB 20.7MB/s \n",
            "\u001b[?25hRequirement already satisfied: pycparser in /usr/local/lib/python3.6/site-packages (from cffi>=1.0.0->argon2-cffi->notebook->jupyter) (2.18)\n",
            "Collecting typing-extensions>=3.6.4; python_version < \"3.8\" (from importlib-metadata; python_version < \"3.8\"->jsonschema!=2.5.0,>=2.4->nbformat>=4.2.0->ipywidgets->jupyter)\n",
            "  Downloading https://files.pythonhosted.org/packages/2e/35/6c4fff5ab443b57116cb1aad46421fb719bed2825664e8fe77d66d99bcbc/typing_extensions-3.10.0.0-py3-none-any.whl\n",
            "Collecting zipp>=0.5 (from importlib-metadata; python_version < \"3.8\"->jsonschema!=2.5.0,>=2.4->nbformat>=4.2.0->ipywidgets->jupyter)\n",
            "  Downloading https://files.pythonhosted.org/packages/92/d9/89f433969fb8dc5b9cbdd4b4deb587720ec1aeb59a020cf15002b9593eef/zipp-3.5.0-py3-none-any.whl\n",
            "Building wheels for collected packages: pandocfilters\n",
            "  Running setup.py bdist_wheel for pandocfilters ... \u001b[?25ldone\n",
            "\u001b[?25h  Stored in directory: /root/.cache/pip/wheels/93/9a/79/b2c3567908fd6209e4674ca23d9fcf005aae5fe89148913727\n",
            "Successfully built pandocfilters\n",
            "\u001b[31mconda 4.10.3 requires ruamel_yaml_conda>=0.11.14, which is not installed.\u001b[0m\n",
            "Installing collected packages: ptyprocess, pexpect, wcwidth, prompt-toolkit, parso, jedi, decorator, ipython-genutils, traitlets, backcall, pickleshare, pygments, ipython, python-dateutil, tornado, pyzmq, entrypoints, nest-asyncio, jupyter-core, jupyter-client, ipykernel, typing-extensions, zipp, importlib-metadata, pyrsistent, attrs, jsonschema, nbformat, terminado, argon2-cffi, Send2Trash, prometheus-client, MarkupSafe, jinja2, pyparsing, packaging, webencodings, bleach, defusedxml, jupyterlab-pygments, mistune, async-generator, nbclient, testpath, pandocfilters, nbconvert, notebook, widgetsnbextension, jupyterlab-widgets, ipywidgets, qtpy, qtconsole, jupyter-console, jupyter\n",
            "Successfully installed MarkupSafe-2.0.1 Send2Trash-1.8.0 argon2-cffi-20.1.0 async-generator-1.10 attrs-21.2.0 backcall-0.2.0 bleach-4.0.0 decorator-5.0.9 defusedxml-0.7.1 entrypoints-0.3 importlib-metadata-4.6.4 ipykernel-5.5.5 ipython-7.16.1 ipython-genutils-0.2.0 ipywidgets-7.6.3 jedi-0.18.0 jinja2-3.0.1 jsonschema-3.2.0 jupyter-1.0.0 jupyter-client-7.0.1 jupyter-console-6.4.0 jupyter-core-4.7.1 jupyterlab-pygments-0.1.2 jupyterlab-widgets-1.0.0 mistune-0.8.4 nbclient-0.5.4 nbconvert-6.0.7 nbformat-5.1.3 nest-asyncio-1.5.1 notebook-6.4.3 packaging-21.0 pandocfilters-1.4.3 parso-0.8.2 pexpect-4.8.0 pickleshare-0.7.5 prometheus-client-0.11.0 prompt-toolkit-3.0.20 ptyprocess-0.7.0 pygments-2.10.0 pyparsing-2.4.7 pyrsistent-0.18.0 python-dateutil-2.8.2 pyzmq-22.2.1 qtconsole-5.1.1 qtpy-1.10.0 terminado-0.11.1 testpath-0.5.0 tornado-6.1 traitlets-4.3.3 typing-extensions-3.10.0.0 wcwidth-0.2.5 webencodings-0.5.1 widgetsnbextension-3.5.1 zipp-3.5.0\n"
          ],
          "name": "stdout"
        },
        {
          "output_type": "display_data",
          "data": {
            "application/vnd.colab-display-data+json": {
              "pip_warning": {
                "packages": [
                  "dateutil",
                  "ipython_genutils",
                  "ipywidgets",
                  "jupyter_core",
                  "pexpect",
                  "pickleshare",
                  "pyparsing",
                  "wcwidth",
                  "zmq"
                ]
              }
            }
          },
          "metadata": {}
        }
      ]
    },
    {
      "cell_type": "code",
      "metadata": {
        "colab": {
          "base_uri": "https://localhost:8080/",
          "height": 1000
        },
        "id": "fzvGxnu6_ubv",
        "outputId": "922b89ff-eb3e-4644-fcee-2ae3c03f3794"
      },
      "source": [
        "!pip install tensorflow-gpu==1.13.1"
      ],
      "execution_count": 32,
      "outputs": [
        {
          "output_type": "stream",
          "text": [
            "Collecting tensorflow-gpu==1.13.1\n",
            "\u001b[?25l  Downloading https://files.pythonhosted.org/packages/7b/b1/0ad4ae02e17ddd62109cd54c291e311c4b5fd09b4d0678d3d6ce4159b0f0/tensorflow_gpu-1.13.1-cp36-cp36m-manylinux1_x86_64.whl (345.2MB)\n",
            "\u001b[K    100% |████████████████████████████████| 345.2MB 47kB/s \n",
            "tcmalloc: large alloc 1073750016 bytes == 0x55b5a6d8a000 @  0x7fa7893bf2a4 0x55b553349455 0x7fa7874b87e2 0x55b55339622c 0x55b5533b339f 0x55b55337fec4 0x55b5533960f7 0x55b5533b339f 0x55b553343160 0x55b55338041b 0x55b5533960f7 0x55b5533b339f 0x55b553343160 0x55b55338041b 0x55b5533960f7 0x55b5533b339f 0x55b553343160 0x55b55338041b 0x55b5533960f7 0x55b5533b4a1e 0x55b55337fec4 0x55b5533960f7 0x55b5533b339f 0x55b553343160 0x55b55338041b 0x55b5533960f7 0x55b5533b4a1e 0x55b553343160 0x55b55338041b 0x55b5533960f7 0x55b5533b4a1e\n",
            "\u001b[?25hCollecting protobuf>=3.6.1 (from tensorflow-gpu==1.13.1)\n",
            "\u001b[?25l  Downloading https://files.pythonhosted.org/packages/53/4e/e2db88d0bb0bda6a879eea62fddbaf813719ce3770d458bc5580512d9c95/protobuf-3.17.3-cp36-cp36m-manylinux_2_5_x86_64.manylinux1_x86_64.whl (1.0MB)\n",
            "\u001b[K    100% |████████████████████████████████| 1.0MB 2.1MB/s \n",
            "\u001b[?25hCollecting absl-py>=0.1.6 (from tensorflow-gpu==1.13.1)\n",
            "\u001b[?25l  Downloading https://files.pythonhosted.org/packages/23/47/835652c7e19530973c73c65e652fc53bd05725d5a7cf9bb8706777869c1e/absl_py-0.13.0-py3-none-any.whl (132kB)\n",
            "\u001b[K    100% |████████████████████████████████| 133kB 37.6MB/s \n",
            "\u001b[?25hRequirement already satisfied: six>=1.10.0 in /usr/local/lib/python3.6/site-packages (from tensorflow-gpu==1.13.1) (1.11.0)\n",
            "Collecting tensorflow-estimator<1.14.0rc0,>=1.13.0 (from tensorflow-gpu==1.13.1)\n",
            "\u001b[?25l  Downloading https://files.pythonhosted.org/packages/bb/48/13f49fc3fa0fdf916aa1419013bb8f2ad09674c275b4046d5ee669a46873/tensorflow_estimator-1.13.0-py2.py3-none-any.whl (367kB)\n",
            "\u001b[K    100% |████████████████████████████████| 368kB 4.0MB/s \n",
            "\u001b[?25hCollecting grpcio>=1.8.6 (from tensorflow-gpu==1.13.1)\n",
            "\u001b[?25l  Downloading https://files.pythonhosted.org/packages/07/ea/398472e896f529d23fb58e33f01298dfc554a341d58f87c1ea5ad817208e/grpcio-1.39.0.tar.gz (21.3MB)\n",
            "\u001b[K    100% |████████████████████████████████| 21.3MB 1.3MB/s \n",
            "\u001b[?25hCollecting astor>=0.6.0 (from tensorflow-gpu==1.13.1)\n",
            "  Downloading https://files.pythonhosted.org/packages/c3/88/97eef84f48fa04fbd6750e62dcceafba6c63c81b7ac1420856c8dcc0a3f9/astor-0.8.1-py2.py3-none-any.whl\n",
            "Collecting termcolor>=1.1.0 (from tensorflow-gpu==1.13.1)\n",
            "  Downloading https://files.pythonhosted.org/packages/8a/48/a76be51647d0eb9f10e2a4511bf3ffb8cc1e6b14e9e4fab46173aa79f981/termcolor-1.1.0.tar.gz\n",
            "Collecting keras-preprocessing>=1.0.5 (from tensorflow-gpu==1.13.1)\n",
            "\u001b[?25l  Downloading https://files.pythonhosted.org/packages/79/4c/7c3275a01e12ef9368a892926ab932b33bb13d55794881e3573482b378a7/Keras_Preprocessing-1.1.2-py2.py3-none-any.whl (42kB)\n",
            "\u001b[K    100% |████████████████████████████████| 51kB 21.7MB/s \n",
            "\u001b[?25hCollecting gast>=0.2.0 (from tensorflow-gpu==1.13.1)\n",
            "  Downloading https://files.pythonhosted.org/packages/ad/b0/a6c8bc1e77409b63755bb0788ac4d497d31b72082de5945c0122259c533e/gast-0.5.2-py3-none-any.whl\n",
            "Collecting tensorboard<1.14.0,>=1.13.0 (from tensorflow-gpu==1.13.1)\n",
            "\u001b[?25l  Downloading https://files.pythonhosted.org/packages/0f/39/bdd75b08a6fba41f098b6cb091b9e8c7a80e1b4d679a581a0ccd17b10373/tensorboard-1.13.1-py3-none-any.whl (3.2MB)\n",
            "\u001b[K    100% |████████████████████████████████| 3.2MB 2.9MB/s \n",
            "\u001b[?25hCollecting keras-applications>=1.0.6 (from tensorflow-gpu==1.13.1)\n",
            "\u001b[?25l  Downloading https://files.pythonhosted.org/packages/71/e3/19762fdfc62877ae9102edf6342d71b28fbfd9dea3d2f96a882ce099b03f/Keras_Applications-1.0.8-py3-none-any.whl (50kB)\n",
            "\u001b[K    100% |████████████████████████████████| 51kB 20.0MB/s \n",
            "\u001b[?25hRequirement already satisfied: wheel>=0.26 in /usr/local/lib/python3.6/site-packages (from tensorflow-gpu==1.13.1) (0.31.1)\n",
            "Collecting numpy>=1.13.3 (from tensorflow-gpu==1.13.1)\n",
            "\u001b[?25l  Downloading https://files.pythonhosted.org/packages/45/b2/6c7545bb7a38754d63048c7696804a0d947328125d81bf12beaa692c3ae3/numpy-1.19.5-cp36-cp36m-manylinux1_x86_64.whl (13.4MB)\n",
            "\u001b[K    100% |████████████████████████████████| 13.4MB 677kB/s \n",
            "\u001b[?25hCollecting mock>=2.0.0 (from tensorflow-estimator<1.14.0rc0,>=1.13.0->tensorflow-gpu==1.13.1)\n",
            "  Downloading https://files.pythonhosted.org/packages/5c/03/b7e605db4a57c0f6fba744b11ef3ddf4ddebcada35022927a2b5fc623fdf/mock-4.0.3-py3-none-any.whl\n",
            "Collecting markdown>=2.6.8 (from tensorboard<1.14.0,>=1.13.0->tensorflow-gpu==1.13.1)\n",
            "\u001b[?25l  Downloading https://files.pythonhosted.org/packages/6e/33/1ae0f71395e618d6140fbbc9587cc3156591f748226075e0f7d6f9176522/Markdown-3.3.4-py3-none-any.whl (97kB)\n",
            "\u001b[K    100% |████████████████████████████████| 102kB 28.8MB/s \n",
            "\u001b[?25hCollecting werkzeug>=0.11.15 (from tensorboard<1.14.0,>=1.13.0->tensorflow-gpu==1.13.1)\n",
            "\u001b[?25l  Downloading https://files.pythonhosted.org/packages/bd/24/11c3ea5a7e866bf2d97f0501d0b4b1c9bbeade102bb4b588f0d2919a5212/Werkzeug-2.0.1-py3-none-any.whl (288kB)\n",
            "\u001b[K    100% |████████████████████████████████| 296kB 2.0MB/s \n",
            "\u001b[?25hCollecting h5py (from keras-applications>=1.0.6->tensorflow-gpu==1.13.1)\n",
            "\u001b[?25l  Downloading https://files.pythonhosted.org/packages/70/7a/e53e500335afb6b1aade11227cdf107fca54106a1dca5c9d13242a043f3b/h5py-3.1.0-cp36-cp36m-manylinux1_x86_64.whl (4.0MB)\n",
            "\u001b[K    100% |████████████████████████████████| 4.0MB 3.3MB/s \n",
            "\u001b[?25hRequirement already satisfied: importlib-metadata; python_version < \"3.8\" in /usr/local/lib/python3.6/site-packages (from markdown>=2.6.8->tensorboard<1.14.0,>=1.13.0->tensorflow-gpu==1.13.1) (4.6.4)\n",
            "Collecting dataclasses; python_version < \"3.7\" (from werkzeug>=0.11.15->tensorboard<1.14.0,>=1.13.0->tensorflow-gpu==1.13.1)\n",
            "  Downloading https://files.pythonhosted.org/packages/fe/ca/75fac5856ab5cfa51bbbcefa250182e50441074fdc3f803f6e76451fab43/dataclasses-0.8-py3-none-any.whl\n",
            "Collecting cached-property; python_version < \"3.8\" (from h5py->keras-applications>=1.0.6->tensorflow-gpu==1.13.1)\n",
            "  Downloading https://files.pythonhosted.org/packages/48/19/f2090f7dad41e225c7f2326e4cfe6fff49e57dedb5b53636c9551f86b069/cached_property-1.5.2-py2.py3-none-any.whl\n",
            "Requirement already satisfied: zipp>=0.5 in /usr/local/lib/python3.6/site-packages (from importlib-metadata; python_version < \"3.8\"->markdown>=2.6.8->tensorboard<1.14.0,>=1.13.0->tensorflow-gpu==1.13.1) (3.5.0)\n",
            "Requirement already satisfied: typing-extensions>=3.6.4; python_version < \"3.8\" in /usr/local/lib/python3.6/site-packages (from importlib-metadata; python_version < \"3.8\"->markdown>=2.6.8->tensorboard<1.14.0,>=1.13.0->tensorflow-gpu==1.13.1) (3.10.0.0)\n",
            "Building wheels for collected packages: grpcio, termcolor\n",
            "  Running setup.py bdist_wheel for grpcio ... \u001b[?25ldone\n",
            "\u001b[?25h  Stored in directory: /root/.cache/pip/wheels/dd/48/20/f7bef63af17c7e7e13c4cfe02ad79b188520009071409f29b7\n",
            "  Running setup.py bdist_wheel for termcolor ... \u001b[?25ldone\n",
            "\u001b[?25h  Stored in directory: /root/.cache/pip/wheels/7c/06/54/bc84598ba1daf8f970247f550b175aaaee85f68b4b0c5ab2c6\n",
            "Successfully built grpcio termcolor\n",
            "\u001b[31mconda 4.10.3 requires ruamel_yaml_conda>=0.11.14, which is not installed.\u001b[0m\n",
            "Installing collected packages: protobuf, absl-py, mock, numpy, tensorflow-estimator, grpcio, astor, termcolor, keras-preprocessing, gast, markdown, dataclasses, werkzeug, tensorboard, cached-property, h5py, keras-applications, tensorflow-gpu\n",
            "Successfully installed absl-py-0.13.0 astor-0.8.1 cached-property-1.5.2 dataclasses-0.8 gast-0.5.2 grpcio-1.39.0 h5py-3.1.0 keras-applications-1.0.8 keras-preprocessing-1.1.2 markdown-3.3.4 mock-4.0.3 numpy-1.19.5 protobuf-3.17.3 tensorboard-1.13.1 tensorflow-estimator-1.13.0 tensorflow-gpu-1.13.1 termcolor-1.1.0 werkzeug-2.0.1\n"
          ],
          "name": "stdout"
        },
        {
          "output_type": "display_data",
          "data": {
            "application/vnd.colab-display-data+json": {
              "pip_warning": {
                "packages": [
                  "astor",
                  "google",
                  "numpy"
                ]
              }
            }
          },
          "metadata": {}
        }
      ]
    },
    {
      "cell_type": "code",
      "metadata": {
        "colab": {
          "base_uri": "https://localhost:8080/"
        },
        "id": "BNHbtvlCBdwI",
        "outputId": "a130752c-6db8-483f-bc24-094576222204"
      },
      "source": [
        "!conda install -c anaconda swig"
      ],
      "execution_count": 33,
      "outputs": [
        {
          "output_type": "stream",
          "text": [
            "Collecting package metadata (current_repodata.json): - \b\b\\ \b\b| \b\b/ \b\b- \b\b\\ \b\b| \b\b/ \b\b- \b\b\\ \b\b| \b\b/ \b\b- \b\b\\ \b\b| \b\bdone\n",
            "Solving environment: - \b\b\\ \b\b| \b\b/ \b\b- \b\b\\ \b\b| \b\bdone\n",
            "\n",
            "## Package Plan ##\n",
            "\n",
            "  environment location: /usr/local\n",
            "\n",
            "  added / updated specs:\n",
            "    - swig\n",
            "\n",
            "\n",
            "The following packages will be downloaded:\n",
            "\n",
            "    package                    |            build\n",
            "    ---------------------------|-----------------\n",
            "    ca-certificates-2020.10.14 |                0         128 KB  anaconda\n",
            "    certifi-2020.6.20          |           py36_0         160 KB  anaconda\n",
            "    pcre-8.44                  |       he6710b0_0         269 KB  anaconda\n",
            "    swig-4.0.2                 |       h2531618_3         1.1 MB\n",
            "    ------------------------------------------------------------\n",
            "                                           Total:         1.7 MB\n",
            "\n",
            "The following NEW packages will be INSTALLED:\n",
            "\n",
            "  pcre               anaconda/linux-64::pcre-8.44-he6710b0_0\n",
            "  swig               pkgs/main/linux-64::swig-4.0.2-h2531618_3\n",
            "\n",
            "The following packages will be SUPERSEDED by a higher-priority channel:\n",
            "\n",
            "  ca-certificates    pkgs/main::ca-certificates-2021.7.5-h~ --> anaconda::ca-certificates-2020.10.14-0\n",
            "  certifi            pkgs/main::certifi-2021.5.30-py36h06a~ --> anaconda::certifi-2020.6.20-py36_0\n",
            "\n",
            "\n",
            "Proceed ([y]/n)? y\n",
            "\n",
            "\n",
            "Downloading and Extracting Packages\n",
            "certifi-2020.6.20    | 160 KB    | : 100% 1.0/1 [00:00<00:00,  6.16it/s]                \n",
            "ca-certificates-2020 | 128 KB    | : 100% 1.0/1 [00:00<00:00, 16.65it/s]\n",
            "pcre-8.44            | 269 KB    | : 100% 1.0/1 [00:00<00:00,  7.25it/s]\n",
            "swig-4.0.2           | 1.1 MB    | : 100% 1.0/1 [00:00<00:00,  3.61it/s]\n",
            "Preparing transaction: - \b\bdone\n",
            "Verifying transaction: | \b\b/ \b\bdone\n",
            "Executing transaction: \\ \b\bdone\n"
          ],
          "name": "stdout"
        }
      ]
    },
    {
      "cell_type": "code",
      "metadata": {
        "colab": {
          "base_uri": "https://localhost:8080/"
        },
        "id": "oI4YZDtBCtd2",
        "outputId": "ef5ff81d-4b6e-476e-f2cc-7cbfc7b16506"
      },
      "source": [
        "cd tf_pose/pafprocess/"
      ],
      "execution_count": 34,
      "outputs": [
        {
          "output_type": "stream",
          "text": [
            "/content/Realtime-Action-Recognition/src/githubs/tf-pose-estimation/tf_pose/pafprocess\n"
          ],
          "name": "stdout"
        }
      ]
    },
    {
      "cell_type": "code",
      "metadata": {
        "colab": {
          "base_uri": "https://localhost:8080/"
        },
        "id": "qWQXeco8C8u7",
        "outputId": "3078196d-5462-45a3-e45b-dfceccfe590c"
      },
      "source": [
        "!swig -python -c++ pafprocess.i \n",
        "!python3 setup.py build_ext --inplace"
      ],
      "execution_count": 40,
      "outputs": [
        {
          "output_type": "stream",
          "text": [
            "running build_ext\n",
            "building '_pafprocess' extension\n",
            "swigging pafprocess.i to pafprocess_wrap.cpp\n",
            "swig -python -c++ -o pafprocess_wrap.cpp pafprocess.i\n",
            "creating build\n",
            "creating build/temp.linux-x86_64-3.6\n",
            "gcc -pthread -B /usr/local/compiler_compat -Wl,--sysroot=/ -Wsign-compare -DNDEBUG -g -fwrapv -O3 -Wall -Wstrict-prototypes -fPIC -I/usr/local/lib/python3.6/site-packages/numpy/core/include -I. -I/usr/local/include/python3.6m -c pafprocess.cpp -o build/temp.linux-x86_64-3.6/pafprocess.o\n",
            "\u001b[01m\u001b[Kcc1plus:\u001b[m\u001b[K \u001b[01;35m\u001b[Kwarning: \u001b[m\u001b[Kcommand line option ‘\u001b[01m\u001b[K-Wstrict-prototypes\u001b[m\u001b[K’ is valid for C/ObjC but not for C++\n",
            "gcc -pthread -B /usr/local/compiler_compat -Wl,--sysroot=/ -Wsign-compare -DNDEBUG -g -fwrapv -O3 -Wall -Wstrict-prototypes -fPIC -I/usr/local/lib/python3.6/site-packages/numpy/core/include -I. -I/usr/local/include/python3.6m -c pafprocess_wrap.cpp -o build/temp.linux-x86_64-3.6/pafprocess_wrap.o\n",
            "\u001b[01m\u001b[Kcc1plus:\u001b[m\u001b[K \u001b[01;35m\u001b[Kwarning: \u001b[m\u001b[Kcommand line option ‘\u001b[01m\u001b[K-Wstrict-prototypes\u001b[m\u001b[K’ is valid for C/ObjC but not for C++\n",
            "g++ -pthread -shared -B /usr/local/compiler_compat -L/usr/local/lib -Wl,-rpath=/usr/local/lib -Wl,--no-as-needed -Wl,--sysroot=/ build/temp.linux-x86_64-3.6/pafprocess.o build/temp.linux-x86_64-3.6/pafprocess_wrap.o -o /content/Realtime-Action-Recognition/src/githubs/tf-pose-estimation/tf_pose/pafprocess/_pafprocess.cpython-36m-x86_64-linux-gnu.so\n"
          ],
          "name": "stdout"
        }
      ]
    },
    {
      "cell_type": "code",
      "metadata": {
        "colab": {
          "base_uri": "https://localhost:8080/"
        },
        "id": "3Z7Jm0CZDj8u",
        "outputId": "f4771848-983a-4794-91e9-be24f2e83d41"
      },
      "source": [
        "cd .."
      ],
      "execution_count": 45,
      "outputs": [
        {
          "output_type": "stream",
          "text": [
            "/content/Realtime-Action-Recognition\n"
          ],
          "name": "stdout"
        }
      ]
    },
    {
      "cell_type": "code",
      "metadata": {
        "colab": {
          "base_uri": "https://localhost:8080/"
        },
        "id": "rYv1eN5XDsEO",
        "outputId": "0e3d762a-87fe-499a-cee4-65dcafe4f064"
      },
      "source": [
        "!pip install -r requirements.txt\n"
      ],
      "execution_count": 47,
      "outputs": [
        {
          "output_type": "stream",
          "text": [
            "Collecting Pillow (from -r requirements.txt (line 1))\n",
            "\u001b[?25l  Downloading https://files.pythonhosted.org/packages/df/74/4a981d12fa26b83c9230b67dee44d1361a372e0f22785f093969fd98b964/Pillow-8.3.1-cp36-cp36m-manylinux_2_5_x86_64.manylinux1_x86_64.whl (3.0MB)\n",
            "\u001b[K    100% |████████████████████████████████| 3.0MB 8.6MB/s \n",
            "\u001b[?25hCollecting cython (from -r requirements.txt (line 2))\n",
            "\u001b[?25l  Downloading https://files.pythonhosted.org/packages/d7/04/5890b30102782a3ec9970df3c10f024298803d89624ee23cf75d09bd2548/Cython-0.29.24-cp36-cp36m-manylinux1_x86_64.whl (2.0MB)\n",
            "\u001b[K    100% |████████████████████████████████| 2.0MB 15.2MB/s \n",
            "\u001b[?25hCollecting matplotlib (from -r requirements.txt (line 3))\n",
            "  Using cached https://files.pythonhosted.org/packages/09/03/b7b30fa81cb687d1178e085d0f01111ceaea3bf81f9330c937fb6f6c8ca0/matplotlib-3.3.4-cp36-cp36m-manylinux1_x86_64.whl\n",
            "Collecting scikit-image (from -r requirements.txt (line 4))\n",
            "\u001b[?25l  Downloading https://files.pythonhosted.org/packages/0e/ba/53e1bfbdfd0f94514d71502e3acea494a8b4b57c457adbc333ef386485da/scikit_image-0.17.2-cp36-cp36m-manylinux1_x86_64.whl (12.4MB)\n",
            "\u001b[K    100% |████████████████████████████████| 12.4MB 3.8MB/s \n",
            "\u001b[?25hCollecting opencv-python (from -r requirements.txt (line 5))\n",
            "\u001b[?25l  Downloading https://files.pythonhosted.org/packages/01/9b/be08992293fb21faf35ab98e06924d7407fcfca89d89c5de65442631556a/opencv-python-4.5.3.56.tar.gz (89.2MB)\n",
            "\u001b[K    100% |████████████████████████████████| 89.2MB 244kB/s \n",
            "\u001b[31m  Could not find a version that satisfies the requirement numpy==1.21.0 (from versions: 1.11.3, 1.12.0, 1.12.1, 1.13.0rc1, 1.13.0rc2, 1.13.0, 1.13.1, 1.13.3, 1.14.0rc1, 1.14.0, 1.14.1, 1.14.2, 1.14.3, 1.14.4, 1.14.5, 1.14.6, 1.15.0rc1, 1.15.0rc2, 1.15.0, 1.15.1, 1.15.2, 1.15.3, 1.15.4, 1.16.0rc1, 1.16.0rc2, 1.16.0, 1.16.1, 1.16.2, 1.16.3, 1.16.4, 1.16.5, 1.16.6, 1.17.0rc1, 1.17.0rc2, 1.17.0, 1.17.1, 1.17.2, 1.17.3, 1.17.4, 1.17.5, 1.18.0rc1, 1.18.0, 1.18.1, 1.18.2, 1.18.3, 1.18.4, 1.18.5, 1.19.0rc1, 1.19.0rc2, 1.19.0, 1.19.1, 1.19.2, 1.19.3, 1.19.4, 1.19.5)\u001b[0m\n",
            "\u001b[31mNo matching distribution found for numpy==1.21.0\u001b[0m\n",
            "\u001b[?25h"
          ],
          "name": "stdout"
        }
      ]
    },
    {
      "cell_type": "code",
      "metadata": {
        "colab": {
          "base_uri": "https://localhost:8080/"
        },
        "id": "cmIDglboD7CC",
        "outputId": "a04ae7d2-e810-4d3e-cf83-beded130d0ce"
      },
      "source": [
        "cd src/githubs/tf-pose-estimation/"
      ],
      "execution_count": 48,
      "outputs": [
        {
          "output_type": "stream",
          "text": [
            "/content/Realtime-Action-Recognition/src/githubs/tf-pose-estimation\n"
          ],
          "name": "stdout"
        }
      ]
    },
    {
      "cell_type": "code",
      "metadata": {
        "colab": {
          "base_uri": "https://localhost:8080/"
        },
        "id": "6uZtQX8KEEWT",
        "outputId": "ac5fd3e6-3fcb-4250-b688-0e318ce74693"
      },
      "source": [
        "!python run.py --model=mobilenet_thin --resize=432x368 --image=./images/p1.jpg\n"
      ],
      "execution_count": 49,
      "outputs": [
        {
          "output_type": "stream",
          "text": [
            "Traceback (most recent call last):\n",
            "  File \"run.py\", line 6, in <module>\n",
            "    from tf_pose import common\n",
            "  File \"/content/Realtime-Action-Recognition/src/githubs/tf-pose-estimation/tf_pose/__init__.py\", line 5, in <module>\n",
            "    from tf_pose.runner import infer, Estimator, get_estimator\n",
            "  File \"/content/Realtime-Action-Recognition/src/githubs/tf-pose-estimation/tf_pose/runner.py\", line 4, in <module>\n",
            "    import cv2\n",
            "ModuleNotFoundError: No module named 'cv2'\n"
          ],
          "name": "stdout"
        }
      ]
    },
    {
      "cell_type": "code",
      "metadata": {
        "colab": {
          "base_uri": "https://localhost:8080/"
        },
        "id": "bPMEmOlaEWs1",
        "outputId": "22aaded7-625e-4059-a81a-e4162ed92dca"
      },
      "source": [
        "!conda install ruamel.yaml\n",
        "!pip install numpy"
      ],
      "execution_count": 54,
      "outputs": [
        {
          "output_type": "stream",
          "text": [
            "Collecting package metadata (current_repodata.json): - \b\b\\ \b\b| \b\b/ \b\b- \b\b\\ \b\b| \b\bdone\n",
            "Solving environment: - \b\b\\ \b\b| \b\b/ \b\b- \b\bdone\n",
            "\n",
            "## Package Plan ##\n",
            "\n",
            "  environment location: /usr/local\n",
            "\n",
            "  added / updated specs:\n",
            "    - ruamel.yaml\n",
            "\n",
            "\n",
            "The following packages will be downloaded:\n",
            "\n",
            "    package                    |            build\n",
            "    ---------------------------|-----------------\n",
            "    ca-certificates-2021.7.5   |       h06a4308_1         113 KB\n",
            "    certifi-2021.5.30          |   py36h06a4308_0         139 KB\n",
            "    ruamel.yaml-0.16.12        |   py36h7b6447c_1         172 KB\n",
            "    ruamel.yaml.clib-0.2.2     |   py36h7b6447c_0         145 KB\n",
            "    ------------------------------------------------------------\n",
            "                                           Total:         569 KB\n",
            "\n",
            "The following NEW packages will be INSTALLED:\n",
            "\n",
            "  ruamel.yaml        pkgs/main/linux-64::ruamel.yaml-0.16.12-py36h7b6447c_1\n",
            "  ruamel.yaml.clib   pkgs/main/linux-64::ruamel.yaml.clib-0.2.2-py36h7b6447c_0\n",
            "\n",
            "The following packages will be UPDATED:\n",
            "\n",
            "  ca-certificates    anaconda::ca-certificates-2020.10.14-0 --> pkgs/main::ca-certificates-2021.7.5-h06a4308_1\n",
            "  certifi                anaconda::certifi-2020.6.20-py36_0 --> pkgs/main::certifi-2021.5.30-py36h06a4308_0\n",
            "\n",
            "\n",
            "Proceed ([y]/n)? y\n",
            "\n",
            "\n",
            "Downloading and Extracting Packages\n",
            "ca-certificates-2021 | 113 KB    | : 100% 1.0/1 [00:00<00:00,  7.97it/s]\n",
            "certifi-2021.5.30    | 139 KB    | : 100% 1.0/1 [00:00<00:00, 13.10it/s]\n",
            "ruamel.yaml-0.16.12  | 172 KB    | : 100% 1.0/1 [00:00<00:00,  8.79it/s]\n",
            "ruamel.yaml.clib-0.2 | 145 KB    | : 100% 1.0/1 [00:00<00:00,  9.68it/s]\n",
            "Preparing transaction: | \b\bdone\n",
            "Verifying transaction: - \b\bdone\n",
            "Executing transaction: | \b\bdone\n",
            "Requirement already satisfied: numpy in /usr/local/lib/python3.6/site-packages (1.19.5)\n",
            "\u001b[31mconda 4.10.3 requires ruamel_yaml_conda>=0.11.14, which is not installed.\u001b[0m\n"
          ],
          "name": "stdout"
        }
      ]
    },
    {
      "cell_type": "code",
      "metadata": {
        "colab": {
          "base_uri": "https://localhost:8080/"
        },
        "id": "1TO6GbrjE_aF",
        "outputId": "b68c2141-710c-49df-9f48-b79be96a3221"
      },
      "source": [
        "!conda update anaconda-navigator  \n",
        "!conda update navigator-updater  \n",
        "!pip install numpy\n",
        "!conda install -c conda-forge opencv\n",
        "!python run.py --model=mobilenet_thin --resize=432x368 --image=./images/p1.jpg\n"
      ],
      "execution_count": 59,
      "outputs": [
        {
          "output_type": "stream",
          "text": [
            "\n",
            "PackageNotInstalledError: Package is not installed in prefix.\n",
            "  prefix: /usr/local\n",
            "  package name: anaconda-navigator\n",
            "\n",
            "\n",
            "\n",
            "PackageNotInstalledError: Package is not installed in prefix.\n",
            "  prefix: /usr/local\n",
            "  package name: navigator-updater\n",
            "\n",
            "\n",
            "Requirement already satisfied: numpy in /usr/local/lib/python3.6/site-packages (1.19.5)\n",
            "\u001b[31mconda 4.10.3 requires ruamel_yaml_conda>=0.11.14, which is not installed.\u001b[0m\n",
            "Collecting package metadata (current_repodata.json): - \b\b\\ \b\b| \b\b/ \b\b- \b\b\\ \b\b| \b\b/ \b\b- \b\b\\ \b\b| \b\b/ \b\b- \b\b\\ \b\b| \b\b/ \b\b- \b\b\\ \b\b| \b\b/ \b\b- \b\b\\ \b\b| \b\b/ \b\b- \b\b\\ \b\b| \b\b/ \b\b- \b\b\\ \b\b| \b\b/ \b\b- \b\b\\ \b\b| \b\b/ \b\b- \b\b\\ \b\b| \b\b/ \b\b- \b\b\\ \b\b| \b\b/ \b\b- \b\b\\ \b\b| \b\b/ \b\b- \b\b\\ \b\b| \b\b/ \b\b- \b\b\\ \b\b| \b\b/ \b\b- \b\b\\ \b\b| \b\b/ \b\b- \b\b\\ \b\b| \b\b/ \b\b- \b\b\\ \b\b| \b\b/ \b\b- \b\b\\ \b\b| \b\b/ \b\b- \b\b\\ \b\b| \b\b/ \b\b- \b\b\\ \b\b| \b\b/ \b\b- \b\b\\ \b\b| \b\b/ \b\b- \b\b\\ \b\b| \b\b/ \b\b- \b\b\\ \b\b| \b\b/ \b\bdone\n",
            "Solving environment: \\ \b\b| \b\b/ \b\b- \b\b\\ \b\b| \b\b/ \b\b- \b\b\\ \b\b| \b\b/ \b\b- \b\b\\ \b\b| \b\b/ \b\b- \b\b\\ \b\b| \b\b/ \b\b- \b\b\\ \b\b| \b\b/ \b\b- \b\b\\ \b\b| \b\b/ \b\b- \b\b\\ \b\b| \b\b/ \b\b- \b\b\\ \b\b| \b\b/ \b\b- \b\b\\ \b\b| \b\b/ \b\b- \b\b\\ \b\b| \b\b/ \b\b- \b\b\\ \b\b| \b\b/ \b\b- \b\b\\ \b\b| \b\bdone\n",
            "\n",
            "## Package Plan ##\n",
            "\n",
            "  environment location: /usr/local\n",
            "\n",
            "  added / updated specs:\n",
            "    - opencv\n",
            "\n",
            "\n",
            "The following packages will be downloaded:\n",
            "\n",
            "    package                    |            build\n",
            "    ---------------------------|-----------------\n",
            "    bzip2-1.0.8                |       h516909a_3         398 KB  conda-forge\n",
            "    ca-certificates-2021.5.30  |       ha878542_0         136 KB  conda-forge\n",
            "    cairo-1.16.0               |    h18b612c_1001         1.5 MB  conda-forge\n",
            "    certifi-2021.5.30          |   py36h5fab9bb_0         141 KB  conda-forge\n",
            "    conda-4.10.3               |   py36h5fab9bb_0         3.1 MB  conda-forge\n",
            "    ffmpeg-4.0                 |       hcdf2ecd_0        53.3 MB\n",
            "    fontconfig-2.13.1          |    he4413a7_1000         327 KB  conda-forge\n",
            "    freeglut-3.2.1             |       h58526e2_0         164 KB  conda-forge\n",
            "    freetype-2.10.4            |       h7ca028e_0         912 KB  conda-forge\n",
            "    glib-2.68.1                |       h36276a3_0         3.0 MB\n",
            "    graphite2-1.3.13           |    h58526e2_1001         102 KB  conda-forge\n",
            "    harfbuzz-1.8.8             |       hffaf4a1_0         507 KB\n",
            "    hdf5-1.10.2                |       hc401514_3         4.8 MB  conda-forge\n",
            "    icu-58.2                   |    hf484d3e_1000        22.6 MB  conda-forge\n",
            "    jasper-2.0.14              |       habb8e15_1         1.2 MB  conda-forge\n",
            "    jpeg-9d                    |       h36c2ea0_0         264 KB  conda-forge\n",
            "    libblas-3.9.0              |       8_openblas          11 KB  conda-forge\n",
            "    libcblas-3.9.0             |       8_openblas          11 KB  conda-forge\n",
            "    libgfortran-3.0.0          |                1         281 KB  conda-forge\n",
            "    libgfortran-ng-7.5.0       |      h14aa051_19          22 KB  conda-forge\n",
            "    libgfortran4-7.5.0         |      h14aa051_19         1.3 MB  conda-forge\n",
            "    libglu-9.0.0               |    he1b5a44_1001         413 KB  conda-forge\n",
            "    liblapack-3.9.0            |       8_openblas          11 KB  conda-forge\n",
            "    libopenblas-0.3.12         |pthreads_hb3c22a3_1         8.2 MB  conda-forge\n",
            "    libopencv-3.4.2            |       hb342d67_1        21.8 MB\n",
            "    libopus-1.3.1              |       h7b6447c_0         491 KB\n",
            "    libpng-1.6.37              |       h21135ba_2         306 KB  conda-forge\n",
            "    libtiff-4.0.9              |    h648cc4a_1002         566 KB  conda-forge\n",
            "    libuuid-2.32.1             |    h14c3975_1000          26 KB  conda-forge\n",
            "    libvpx-1.7.0               |       h439df22_0         1.2 MB\n",
            "    libxcb-1.13                |    h14c3975_1002         396 KB  conda-forge\n",
            "    libxml2-2.9.10             |       hb55368b_3         1.2 MB\n",
            "    numpy-1.18.5               |   py36h7314795_0         5.1 MB  conda-forge\n",
            "    opencv-3.4.2               |   py36h6fd60c2_1          11 KB\n",
            "    pixman-0.38.0              |    h516909a_1003         594 KB  conda-forge\n",
            "    pthread-stubs-0.4          |    h36c2ea0_1001           5 KB  conda-forge\n",
            "    py-opencv-3.4.2            |   py36hb342d67_1         1.0 MB\n",
            "    python_abi-3.6             |          2_cp36m           4 KB  conda-forge\n",
            "    xorg-fixesproto-5.0        |    h14c3975_1002           8 KB  conda-forge\n",
            "    xorg-inputproto-2.3.2      |    h14c3975_1002          18 KB  conda-forge\n",
            "    xorg-kbproto-1.0.7         |    h14c3975_1002          26 KB  conda-forge\n",
            "    xorg-libice-1.0.10         |       h516909a_0          57 KB  conda-forge\n",
            "    xorg-libsm-1.2.3           |    h84519dc_1000          25 KB  conda-forge\n",
            "    xorg-libx11-1.6.12         |       h36c2ea0_0         919 KB  conda-forge\n",
            "    xorg-libxau-1.0.9          |       h14c3975_0          13 KB  conda-forge\n",
            "    xorg-libxdmcp-1.1.3        |       h516909a_0          18 KB  conda-forge\n",
            "    xorg-libxext-1.3.4         |       h516909a_0          51 KB  conda-forge\n",
            "    xorg-libxfixes-5.0.3       |    h516909a_1004          17 KB  conda-forge\n",
            "    xorg-libxi-1.7.10          |       h516909a_0          45 KB  conda-forge\n",
            "    xorg-libxrender-0.9.10     |    h516909a_1002          31 KB  conda-forge\n",
            "    xorg-renderproto-0.11.1    |    h14c3975_1002           8 KB  conda-forge\n",
            "    xorg-xextproto-7.3.0       |    h14c3975_1002          27 KB  conda-forge\n",
            "    xorg-xproto-7.0.31         |    h14c3975_1007          72 KB  conda-forge\n",
            "    ------------------------------------------------------------\n",
            "                                           Total:       136.4 MB\n",
            "\n",
            "The following NEW packages will be INSTALLED:\n",
            "\n",
            "  bzip2              conda-forge/linux-64::bzip2-1.0.8-h516909a_3\n",
            "  cairo              conda-forge/linux-64::cairo-1.16.0-h18b612c_1001\n",
            "  ffmpeg             pkgs/main/linux-64::ffmpeg-4.0-hcdf2ecd_0\n",
            "  fontconfig         conda-forge/linux-64::fontconfig-2.13.1-he4413a7_1000\n",
            "  freeglut           conda-forge/linux-64::freeglut-3.2.1-h58526e2_0\n",
            "  freetype           conda-forge/linux-64::freetype-2.10.4-h7ca028e_0\n",
            "  glib               pkgs/main/linux-64::glib-2.68.1-h36276a3_0\n",
            "  graphite2          conda-forge/linux-64::graphite2-1.3.13-h58526e2_1001\n",
            "  harfbuzz           pkgs/main/linux-64::harfbuzz-1.8.8-hffaf4a1_0\n",
            "  hdf5               conda-forge/linux-64::hdf5-1.10.2-hc401514_3\n",
            "  icu                conda-forge/linux-64::icu-58.2-hf484d3e_1000\n",
            "  jasper             conda-forge/linux-64::jasper-2.0.14-habb8e15_1\n",
            "  jpeg               conda-forge/linux-64::jpeg-9d-h36c2ea0_0\n",
            "  libblas            conda-forge/linux-64::libblas-3.9.0-8_openblas\n",
            "  libcblas           conda-forge/linux-64::libcblas-3.9.0-8_openblas\n",
            "  libgfortran        conda-forge/linux-64::libgfortran-3.0.0-1\n",
            "  libgfortran-ng     conda-forge/linux-64::libgfortran-ng-7.5.0-h14aa051_19\n",
            "  libgfortran4       conda-forge/linux-64::libgfortran4-7.5.0-h14aa051_19\n",
            "  libglu             conda-forge/linux-64::libglu-9.0.0-he1b5a44_1001\n",
            "  liblapack          conda-forge/linux-64::liblapack-3.9.0-8_openblas\n",
            "  libopenblas        conda-forge/linux-64::libopenblas-0.3.12-pthreads_hb3c22a3_1\n",
            "  libopencv          pkgs/main/linux-64::libopencv-3.4.2-hb342d67_1\n",
            "  libopus            pkgs/main/linux-64::libopus-1.3.1-h7b6447c_0\n",
            "  libpng             conda-forge/linux-64::libpng-1.6.37-h21135ba_2\n",
            "  libtiff            conda-forge/linux-64::libtiff-4.0.9-h648cc4a_1002\n",
            "  libuuid            conda-forge/linux-64::libuuid-2.32.1-h14c3975_1000\n",
            "  libvpx             pkgs/main/linux-64::libvpx-1.7.0-h439df22_0\n",
            "  libxcb             conda-forge/linux-64::libxcb-1.13-h14c3975_1002\n",
            "  libxml2            pkgs/main/linux-64::libxml2-2.9.10-hb55368b_3\n",
            "  numpy              conda-forge/linux-64::numpy-1.18.5-py36h7314795_0\n",
            "  opencv             pkgs/main/linux-64::opencv-3.4.2-py36h6fd60c2_1\n",
            "  pixman             conda-forge/linux-64::pixman-0.38.0-h516909a_1003\n",
            "  pthread-stubs      conda-forge/linux-64::pthread-stubs-0.4-h36c2ea0_1001\n",
            "  py-opencv          pkgs/main/linux-64::py-opencv-3.4.2-py36hb342d67_1\n",
            "  python_abi         conda-forge/linux-64::python_abi-3.6-2_cp36m\n",
            "  xorg-fixesproto    conda-forge/linux-64::xorg-fixesproto-5.0-h14c3975_1002\n",
            "  xorg-inputproto    conda-forge/linux-64::xorg-inputproto-2.3.2-h14c3975_1002\n",
            "  xorg-kbproto       conda-forge/linux-64::xorg-kbproto-1.0.7-h14c3975_1002\n",
            "  xorg-libice        conda-forge/linux-64::xorg-libice-1.0.10-h516909a_0\n",
            "  xorg-libsm         conda-forge/linux-64::xorg-libsm-1.2.3-h84519dc_1000\n",
            "  xorg-libx11        conda-forge/linux-64::xorg-libx11-1.6.12-h36c2ea0_0\n",
            "  xorg-libxau        conda-forge/linux-64::xorg-libxau-1.0.9-h14c3975_0\n",
            "  xorg-libxdmcp      conda-forge/linux-64::xorg-libxdmcp-1.1.3-h516909a_0\n",
            "  xorg-libxext       conda-forge/linux-64::xorg-libxext-1.3.4-h516909a_0\n",
            "  xorg-libxfixes     conda-forge/linux-64::xorg-libxfixes-5.0.3-h516909a_1004\n",
            "  xorg-libxi         conda-forge/linux-64::xorg-libxi-1.7.10-h516909a_0\n",
            "  xorg-libxrender    conda-forge/linux-64::xorg-libxrender-0.9.10-h516909a_1002\n",
            "  xorg-renderproto   conda-forge/linux-64::xorg-renderproto-0.11.1-h14c3975_1002\n",
            "  xorg-xextproto     conda-forge/linux-64::xorg-xextproto-7.3.0-h14c3975_1002\n",
            "  xorg-xproto        conda-forge/linux-64::xorg-xproto-7.0.31-h14c3975_1007\n",
            "\n",
            "The following packages will be SUPERSEDED by a higher-priority channel:\n",
            "\n",
            "  ca-certificates    pkgs/main::ca-certificates-2021.7.5-h~ --> conda-forge::ca-certificates-2021.5.30-ha878542_0\n",
            "  certifi            pkgs/main::certifi-2021.5.30-py36h06a~ --> conda-forge::certifi-2021.5.30-py36h5fab9bb_0\n",
            "  conda              pkgs/main::conda-4.10.3-py36h06a4308_0 --> conda-forge::conda-4.10.3-py36h5fab9bb_0\n",
            "\n",
            "\n",
            "Proceed ([y]/n)? y\n",
            "\n",
            "\n",
            "Downloading and Extracting Packages\n",
            "libgfortran-3.0.0    | 281 KB    | : 100% 1.0/1 [00:00<00:00,  4.98it/s]               \n",
            "libglu-9.0.0         | 413 KB    | : 100% 1.0/1 [00:00<00:00,  6.52it/s]\n",
            "libopenblas-0.3.12   | 8.2 MB    | : 100% 1.0/1 [00:02<00:00,  2.60s/it]               \n",
            "libpng-1.6.37        | 306 KB    | : 100% 1.0/1 [00:00<00:00,  7.70it/s]\n",
            "xorg-xextproto-7.3.0 | 27 KB     | : 100% 1.0/1 [00:00<00:00, 18.05it/s]\n",
            "hdf5-1.10.2          | 4.8 MB    | : 100% 1.0/1 [00:01<00:00,  1.92s/it]               \n",
            "pixman-0.38.0        | 594 KB    | : 100% 1.0/1 [00:00<00:00,  5.61it/s]\n",
            "pthread-stubs-0.4    | 5 KB      | : 100% 1.0/1 [00:00<00:00, 28.32it/s]\n",
            "numpy-1.18.5         | 5.1 MB    | : 100% 1.0/1 [00:01<00:00,  1.85s/it]               \n",
            "libblas-3.9.0        | 11 KB     | : 100% 1.0/1 [00:00<00:00, 19.81it/s]\n",
            "libgfortran4-7.5.0   | 1.3 MB    | : 100% 1.0/1 [00:00<00:00,  2.43it/s]\n",
            "xorg-libxfixes-5.0.3 | 17 KB     | : 100% 1.0/1 [00:00<00:00, 23.67it/s]\n",
            "xorg-inputproto-2.3. | 18 KB     | : 100% 1.0/1 [00:00<00:00, 22.27it/s]\n",
            "libcblas-3.9.0       | 11 KB     | : 100% 1.0/1 [00:00<00:00, 18.42it/s]\n",
            "xorg-kbproto-1.0.7   | 26 KB     | : 100% 1.0/1 [00:00<00:00, 17.97it/s]\n",
            "libopencv-3.4.2      | 21.8 MB   | : 100% 1.0/1 [00:01<00:00,  1.57s/it]\n",
            "libxml2-2.9.10       | 1.2 MB    | : 100% 1.0/1 [00:00<00:00,  3.35it/s]\n",
            "opencv-3.4.2         | 11 KB     | : 100% 1.0/1 [00:00<00:00, 10.53it/s]\n",
            "jpeg-9d              | 264 KB    | : 100% 1.0/1 [00:00<00:00,  7.71it/s]\n",
            "libuuid-2.32.1       | 26 KB     | : 100% 1.0/1 [00:00<00:00, 20.51it/s]\n",
            "ffmpeg-4.0           | 53.3 MB   | : 100% 1.0/1 [00:02<00:00,  2.61s/it]               \n",
            "liblapack-3.9.0      | 11 KB     | : 100% 1.0/1 [00:00<00:00, 16.38it/s]\n",
            "freetype-2.10.4      | 912 KB    | : 100% 1.0/1 [00:00<00:00,  3.13it/s]\n",
            "fontconfig-2.13.1    | 327 KB    | : 100% 1.0/1 [00:00<00:00,  6.57it/s]\n",
            "libopus-1.3.1        | 491 KB    | : 100% 1.0/1 [00:00<00:00,  8.08it/s]\n",
            "jasper-2.0.14        | 1.2 MB    | : 100% 1.0/1 [00:00<00:00,  2.84it/s]\n",
            "xorg-xproto-7.0.31   | 72 KB     | : 100% 1.0/1 [00:00<00:00, 17.55it/s]\n",
            "harfbuzz-1.8.8       | 507 KB    | : 100% 1.0/1 [00:00<00:00,  6.95it/s]\n",
            "xorg-fixesproto-5.0  | 8 KB      | : 100% 1.0/1 [00:00<00:00, 24.38it/s]\n",
            "icu-58.2             | 22.6 MB   | : 100% 1.0/1 [00:05<00:00,  5.36s/it]\n",
            "xorg-libice-1.0.10   | 57 KB     | : 100% 1.0/1 [00:00<00:00, 20.46it/s]\n",
            "xorg-libxext-1.3.4   | 51 KB     | : 100% 1.0/1 [00:00<00:00, 20.39it/s]\n",
            "xorg-libxau-1.0.9    | 13 KB     | : 100% 1.0/1 [00:00<00:00, 21.79it/s]\n",
            "libxcb-1.13          | 396 KB    | : 100% 1.0/1 [00:00<00:00,  3.91it/s]\n",
            "bzip2-1.0.8          | 398 KB    | : 100% 1.0/1 [00:00<00:00,  6.92it/s]\n",
            "xorg-libsm-1.2.3     | 25 KB     | : 100% 1.0/1 [00:00<00:00, 22.19it/s]\n",
            "xorg-libxi-1.7.10    | 45 KB     | : 100% 1.0/1 [00:00<00:00, 21.57it/s]\n",
            "libgfortran-ng-7.5.0 | 22 KB     | : 100% 1.0/1 [00:00<00:00, 23.18it/s]\n",
            "libvpx-1.7.0         | 1.2 MB    | : 100% 1.0/1 [00:00<00:00,  6.77it/s]\n",
            "python_abi-3.6       | 4 KB      | : 100% 1.0/1 [00:00<00:00, 26.10it/s]\n",
            "py-opencv-3.4.2      | 1.0 MB    | : 100% 1.0/1 [00:00<00:00,  7.00it/s]\n",
            "ca-certificates-2021 | 136 KB    | : 100% 1.0/1 [00:00<00:00, 15.73it/s]\n",
            "glib-2.68.1          | 3.0 MB    | : 100% 1.0/1 [00:00<00:00,  3.44it/s]\n",
            "xorg-libxrender-0.9. | 31 KB     | : 100% 1.0/1 [00:00<00:00, 21.50it/s]\n",
            "freeglut-3.2.1       | 164 KB    | : 100% 1.0/1 [00:00<00:00,  9.79it/s]\n",
            "xorg-libxdmcp-1.1.3  | 18 KB     | : 100% 1.0/1 [00:00<00:00, 17.62it/s]\n",
            "graphite2-1.3.13     | 102 KB    | : 100% 1.0/1 [00:00<00:00, 13.17it/s]\n",
            "libtiff-4.0.9        | 566 KB    | : 100% 1.0/1 [00:00<00:00,  4.94it/s]\n",
            "certifi-2021.5.30    | 141 KB    | : 100% 1.0/1 [00:00<00:00, 15.82it/s]\n",
            "cairo-1.16.0         | 1.5 MB    | : 100% 1.0/1 [00:00<00:00,  1.86it/s]\n",
            "conda-4.10.3         | 3.1 MB    | : 100% 1.0/1 [00:01<00:00,  1.03s/it]\n",
            "xorg-libx11-1.6.12   | 919 KB    | : 100% 1.0/1 [00:00<00:00,  3.68it/s]\n",
            "xorg-renderproto-0.1 | 8 KB      | : 100% 1.0/1 [00:00<00:00, 23.34it/s]\n",
            "Preparing transaction: - \b\b\\ \b\bdone\n",
            "Verifying transaction: / \b\b- \b\b\\ \b\b| \b\b/ \b\b- \b\b\\ \b\b| \b\b/ \b\b- \b\b\\ \b\b| \b\b/ \b\b- \b\b\\ \b\b| \b\b/ \b\b- \b\b\\ \b\b| \b\b/ \b\b- \b\b\\ \b\b| \b\b/ \b\b- \b\b\\ \b\b| \b\b/ \b\b- \b\b\\ \b\b| \b\b/ \b\b- \b\b\\ \b\b| \b\b/ \b\b- \b\b\\ \b\b| \b\b/ \b\b- \b\b\\ \b\bdone\n",
            "Executing transaction: / \b\b- \b\b\\ \b\b| \b\b/ \b\b- \b\bdone\n",
            "/usr/local/lib/python3.6/site-packages/tensorflow/python/framework/dtypes.py:526: FutureWarning: Passing (type, 1) or '1type' as a synonym of type is deprecated; in a future version of numpy, it will be understood as (type, (1,)) / '(1,)type'.\n",
            "  _np_qint8 = np.dtype([(\"qint8\", np.int8, 1)])\n",
            "/usr/local/lib/python3.6/site-packages/tensorflow/python/framework/dtypes.py:527: FutureWarning: Passing (type, 1) or '1type' as a synonym of type is deprecated; in a future version of numpy, it will be understood as (type, (1,)) / '(1,)type'.\n",
            "  _np_quint8 = np.dtype([(\"quint8\", np.uint8, 1)])\n",
            "/usr/local/lib/python3.6/site-packages/tensorflow/python/framework/dtypes.py:528: FutureWarning: Passing (type, 1) or '1type' as a synonym of type is deprecated; in a future version of numpy, it will be understood as (type, (1,)) / '(1,)type'.\n",
            "  _np_qint16 = np.dtype([(\"qint16\", np.int16, 1)])\n",
            "/usr/local/lib/python3.6/site-packages/tensorflow/python/framework/dtypes.py:529: FutureWarning: Passing (type, 1) or '1type' as a synonym of type is deprecated; in a future version of numpy, it will be understood as (type, (1,)) / '(1,)type'.\n",
            "  _np_quint16 = np.dtype([(\"quint16\", np.uint16, 1)])\n",
            "/usr/local/lib/python3.6/site-packages/tensorflow/python/framework/dtypes.py:530: FutureWarning: Passing (type, 1) or '1type' as a synonym of type is deprecated; in a future version of numpy, it will be understood as (type, (1,)) / '(1,)type'.\n",
            "  _np_qint32 = np.dtype([(\"qint32\", np.int32, 1)])\n",
            "/usr/local/lib/python3.6/site-packages/tensorflow/python/framework/dtypes.py:535: FutureWarning: Passing (type, 1) or '1type' as a synonym of type is deprecated; in a future version of numpy, it will be understood as (type, (1,)) / '(1,)type'.\n",
            "  np_resource = np.dtype([(\"resource\", np.ubyte, 1)])\n",
            "Traceback (most recent call last):\n",
            "  File \"run.py\", line 6, in <module>\n",
            "    from tf_pose import common\n",
            "  File \"/content/Realtime-Action-Recognition/src/githubs/tf-pose-estimation/tf_pose/__init__.py\", line 5, in <module>\n",
            "    from tf_pose.runner import infer, Estimator, get_estimator\n",
            "  File \"/content/Realtime-Action-Recognition/src/githubs/tf-pose-estimation/tf_pose/runner.py\", line 8, in <module>\n",
            "    from tf_pose import eval\n",
            "  File \"/content/Realtime-Action-Recognition/src/githubs/tf-pose-estimation/tf_pose/eval.py\", line 13, in <module>\n",
            "    from tf_pose.estimator import TfPoseEstimator\n",
            "  File \"/content/Realtime-Action-Recognition/src/githubs/tf-pose-estimation/tf_pose/estimator.py\", line 4, in <module>\n",
            "    import slidingwindow as sw\n",
            "ModuleNotFoundError: No module named 'slidingwindow'\n"
          ],
          "name": "stdout"
        }
      ]
    },
    {
      "cell_type": "code",
      "metadata": {
        "colab": {
          "base_uri": "https://localhost:8080/"
        },
        "id": "qImWHWLeImns",
        "outputId": "6e93e93c-b831-481d-cf10-e8e62ea41c24"
      },
      "source": [
        "!pip install scipy\n"
      ],
      "execution_count": 63,
      "outputs": [
        {
          "output_type": "stream",
          "text": [
            "Collecting scipy\n",
            "\u001b[?25l  Downloading https://files.pythonhosted.org/packages/c8/89/63171228d5ced148f5ced50305c89e8576ffc695a90b58fe5bb602b910c2/scipy-1.5.4-cp36-cp36m-manylinux1_x86_64.whl (25.9MB)\n",
            "\u001b[K    100% |████████████████████████████████| 25.9MB 1.7MB/s \n",
            "\u001b[?25hRequirement already satisfied: numpy>=1.14.5 in /usr/local/lib/python3.6/site-packages (from scipy) (1.19.5)\n",
            "\u001b[31mconda 4.10.3 requires ruamel_yaml_conda>=0.11.14, which is not installed.\u001b[0m\n",
            "Installing collected packages: scipy\n",
            "Successfully installed scipy-1.5.4\n"
          ],
          "name": "stdout"
        }
      ]
    },
    {
      "cell_type": "code",
      "metadata": {
        "colab": {
          "base_uri": "https://localhost:8080/"
        },
        "id": "mSJoDz-nGfVE",
        "outputId": "842971bb-fd66-4e34-cf9f-835cf398605b"
      },
      "source": [
        "!conda install -c conda-forge slidingwindow"
      ],
      "execution_count": 61,
      "outputs": [
        {
          "output_type": "stream",
          "text": [
            "Collecting package metadata (current_repodata.json): - \b\b\\ \b\b| \b\b/ \b\b- \b\b\\ \b\b| \b\b/ \b\b- \b\b\\ \b\b| \b\b/ \b\b- \b\b\\ \b\b| \b\b/ \b\b- \b\b\\ \b\b| \b\b/ \b\b- \b\b\\ \b\b| \b\b/ \b\b- \b\b\\ \b\b| \b\bdone\n",
            "Solving environment: - \b\b\\ \b\b| \b\b/ \b\b- \b\b\\ \b\b| \b\b/ \b\b- \b\b\\ \b\b| \b\b/ \b\b- \b\b\\ \b\b| \b\b/ \b\b- \b\b\\ \b\b| \b\b/ \b\b- \b\b\\ \b\b| \b\b/ \b\b- \b\b\\ \b\b| \b\b/ \b\b- \b\b\\ \b\b| \b\b/ \b\b- \b\bdone\n",
            "\n",
            "## Package Plan ##\n",
            "\n",
            "  environment location: /usr/local\n",
            "\n",
            "  added / updated specs:\n",
            "    - slidingwindow\n",
            "\n",
            "\n",
            "The following packages will be downloaded:\n",
            "\n",
            "    package                    |            build\n",
            "    ---------------------------|-----------------\n",
            "    psutil-4.4.2               |           py36_0         243 KB  conda-forge\n",
            "    slidingwindow-0.0.14       |     pyh9f0ad1d_0          11 KB  conda-forge\n",
            "    ------------------------------------------------------------\n",
            "                                           Total:         254 KB\n",
            "\n",
            "The following NEW packages will be INSTALLED:\n",
            "\n",
            "  psutil             conda-forge/linux-64::psutil-4.4.2-py36_0\n",
            "  slidingwindow      conda-forge/noarch::slidingwindow-0.0.14-pyh9f0ad1d_0\n",
            "\n",
            "\n",
            "Proceed ([y]/n)? y\n",
            "\n",
            "\n",
            "Downloading and Extracting Packages\n",
            "psutil-4.4.2         | 243 KB    | : 100% 1.0/1 [00:00<00:00,  3.46it/s]\n",
            "slidingwindow-0.0.14 | 11 KB     | : 100% 1.0/1 [00:00<00:00, 12.09it/s]\n",
            "Preparing transaction: | \b\bdone\n",
            "Verifying transaction: - \b\bdone\n",
            "Executing transaction: | \b\b/ \b\b- \b\b\\ \b\b| \b\b/ \b\bdone\n"
          ],
          "name": "stdout"
        }
      ]
    },
    {
      "cell_type": "code",
      "metadata": {
        "colab": {
          "base_uri": "https://localhost:8080/"
        },
        "id": "YakNFEzhInfs",
        "outputId": "01347c9f-26e4-4755-d6a0-2acd92671142"
      },
      "source": [
        "!python run.py --model=mobilenet_thin --resize=432x368 --image=./images/p1.jpg\n"
      ],
      "execution_count": 64,
      "outputs": [
        {
          "output_type": "stream",
          "text": [
            "/usr/local/lib/python3.6/site-packages/tensorflow/python/framework/dtypes.py:526: FutureWarning: Passing (type, 1) or '1type' as a synonym of type is deprecated; in a future version of numpy, it will be understood as (type, (1,)) / '(1,)type'.\n",
            "  _np_qint8 = np.dtype([(\"qint8\", np.int8, 1)])\n",
            "/usr/local/lib/python3.6/site-packages/tensorflow/python/framework/dtypes.py:527: FutureWarning: Passing (type, 1) or '1type' as a synonym of type is deprecated; in a future version of numpy, it will be understood as (type, (1,)) / '(1,)type'.\n",
            "  _np_quint8 = np.dtype([(\"quint8\", np.uint8, 1)])\n",
            "/usr/local/lib/python3.6/site-packages/tensorflow/python/framework/dtypes.py:528: FutureWarning: Passing (type, 1) or '1type' as a synonym of type is deprecated; in a future version of numpy, it will be understood as (type, (1,)) / '(1,)type'.\n",
            "  _np_qint16 = np.dtype([(\"qint16\", np.int16, 1)])\n",
            "/usr/local/lib/python3.6/site-packages/tensorflow/python/framework/dtypes.py:529: FutureWarning: Passing (type, 1) or '1type' as a synonym of type is deprecated; in a future version of numpy, it will be understood as (type, (1,)) / '(1,)type'.\n",
            "  _np_quint16 = np.dtype([(\"quint16\", np.uint16, 1)])\n",
            "/usr/local/lib/python3.6/site-packages/tensorflow/python/framework/dtypes.py:530: FutureWarning: Passing (type, 1) or '1type' as a synonym of type is deprecated; in a future version of numpy, it will be understood as (type, (1,)) / '(1,)type'.\n",
            "  _np_qint32 = np.dtype([(\"qint32\", np.int32, 1)])\n",
            "/usr/local/lib/python3.6/site-packages/tensorflow/python/framework/dtypes.py:535: FutureWarning: Passing (type, 1) or '1type' as a synonym of type is deprecated; in a future version of numpy, it will be understood as (type, (1,)) / '(1,)type'.\n",
            "  np_resource = np.dtype([(\"resource\", np.ubyte, 1)])\n",
            "Traceback (most recent call last):\n",
            "  File \"run.py\", line 6, in <module>\n",
            "    from tf_pose import common\n",
            "  File \"/content/Realtime-Action-Recognition/src/githubs/tf-pose-estimation/tf_pose/__init__.py\", line 5, in <module>\n",
            "    from tf_pose.runner import infer, Estimator, get_estimator\n",
            "  File \"/content/Realtime-Action-Recognition/src/githubs/tf-pose-estimation/tf_pose/runner.py\", line 8, in <module>\n",
            "    from tf_pose import eval\n",
            "  File \"/content/Realtime-Action-Recognition/src/githubs/tf-pose-estimation/tf_pose/eval.py\", line 16, in <module>\n",
            "    from pycocotools.coco import COCO\n",
            "ModuleNotFoundError: No module named 'pycocotools'\n"
          ],
          "name": "stdout"
        }
      ]
    },
    {
      "cell_type": "code",
      "metadata": {
        "colab": {
          "base_uri": "https://localhost:8080/",
          "height": 1000
        },
        "id": "hMfhRDkkJE5p",
        "outputId": "3b425f1a-2a52-4c05-de99-8df5e6434d7e"
      },
      "source": [
        "!pip install -U scikit-image\n",
        "!pip install -U cython \n",
        "!pip install \"git+https://github.com/philferriere/cocoapi.git#egg=pycocotools&subdirectory=PythonAPI\""
      ],
      "execution_count": 65,
      "outputs": [
        {
          "output_type": "stream",
          "text": [
            "Collecting scikit-image\n",
            "  Using cached https://files.pythonhosted.org/packages/0e/ba/53e1bfbdfd0f94514d71502e3acea494a8b4b57c457adbc333ef386485da/scikit_image-0.17.2-cp36-cp36m-manylinux1_x86_64.whl\n",
            "Collecting tifffile>=2019.7.26 (from scikit-image)\n",
            "\u001b[?25l  Downloading https://files.pythonhosted.org/packages/42/6b/93a8ee61c6fbe20fa9c17928bd3b80484902b7fd454cecaffba42f5052cb/tifffile-2020.9.3-py3-none-any.whl (148kB)\n",
            "\u001b[K    100% |████████████████████████████████| 153kB 8.3MB/s \n",
            "\u001b[?25hCollecting PyWavelets>=1.1.1 (from scikit-image)\n",
            "\u001b[?25l  Downloading https://files.pythonhosted.org/packages/59/bb/d2b85265ec9fa3c1922210c9393d4cdf7075cc87cce6fe671d7455f80fbc/PyWavelets-1.1.1-cp36-cp36m-manylinux1_x86_64.whl (4.4MB)\n",
            "\u001b[K    100% |████████████████████████████████| 4.4MB 7.7MB/s \n",
            "\u001b[?25hCollecting imageio>=2.3.0 (from scikit-image)\n",
            "\u001b[?25l  Downloading https://files.pythonhosted.org/packages/6e/57/5d899fae74c1752f52869b613a8210a2480e1a69688e65df6cb26117d45d/imageio-2.9.0-py3-none-any.whl (3.3MB)\n",
            "\u001b[K    100% |████████████████████████████████| 3.3MB 7.9MB/s \n",
            "\u001b[?25hCollecting pillow!=7.1.0,!=7.1.1,>=4.3.0 (from scikit-image)\n",
            "  Using cached https://files.pythonhosted.org/packages/df/74/4a981d12fa26b83c9230b67dee44d1361a372e0f22785f093969fd98b964/Pillow-8.3.1-cp36-cp36m-manylinux_2_5_x86_64.manylinux1_x86_64.whl\n",
            "Collecting networkx>=2.0 (from scikit-image)\n",
            "\u001b[?25l  Downloading https://files.pythonhosted.org/packages/f3/b7/c7f488101c0bb5e4178f3cde416004280fd40262433496830de8a8c21613/networkx-2.5.1-py3-none-any.whl (1.6MB)\n",
            "\u001b[K    100% |████████████████████████████████| 1.6MB 10.5MB/s \n",
            "\u001b[?25hRequirement not upgraded as not directly required: scipy>=1.0.1 in /usr/local/lib/python3.6/site-packages (from scikit-image) (1.5.4)\n",
            "Collecting matplotlib!=3.0.0,>=2.0.0 (from scikit-image)\n",
            "  Using cached https://files.pythonhosted.org/packages/09/03/b7b30fa81cb687d1178e085d0f01111ceaea3bf81f9330c937fb6f6c8ca0/matplotlib-3.3.4-cp36-cp36m-manylinux1_x86_64.whl\n",
            "Requirement not upgraded as not directly required: numpy>=1.15.1 in /usr/local/lib/python3.6/site-packages (from scikit-image) (1.19.5)\n",
            "Collecting decorator<5,>=4.3 (from networkx>=2.0->scikit-image)\n",
            "  Downloading https://files.pythonhosted.org/packages/ed/1b/72a1821152d07cf1d8b6fce298aeb06a7eb90f4d6d41acec9861e7cc6df0/decorator-4.4.2-py2.py3-none-any.whl\n",
            "Collecting cycler>=0.10 (from matplotlib!=3.0.0,>=2.0.0->scikit-image)\n",
            "  Downloading https://files.pythonhosted.org/packages/f7/d2/e07d3ebb2bd7af696440ce7e754c59dd546ffe1bbe732c8ab68b9c834e61/cycler-0.10.0-py2.py3-none-any.whl\n",
            "Collecting kiwisolver>=1.0.1 (from matplotlib!=3.0.0,>=2.0.0->scikit-image)\n",
            "\u001b[?25l  Downloading https://files.pythonhosted.org/packages/a7/1b/cbd8ae738719b5f41592a12057ef5442e2ed5f5cb5451f8fc7e9f8875a1a/kiwisolver-1.3.1-cp36-cp36m-manylinux1_x86_64.whl (1.1MB)\n",
            "\u001b[K    100% |████████████████████████████████| 1.1MB 8.8MB/s \n",
            "\u001b[?25hRequirement not upgraded as not directly required: python-dateutil>=2.1 in /usr/local/lib/python3.6/site-packages (from matplotlib!=3.0.0,>=2.0.0->scikit-image) (2.8.2)\n",
            "Requirement not upgraded as not directly required: pyparsing!=2.0.4,!=2.1.2,!=2.1.6,>=2.0.3 in /usr/local/lib/python3.6/site-packages (from matplotlib!=3.0.0,>=2.0.0->scikit-image) (2.4.7)\n",
            "Requirement not upgraded as not directly required: six in /usr/local/lib/python3.6/site-packages (from cycler>=0.10->matplotlib!=3.0.0,>=2.0.0->scikit-image) (1.11.0)\n",
            "\u001b[31mconda 4.10.3 requires ruamel_yaml_conda>=0.11.14, which is not installed.\u001b[0m\n",
            "Installing collected packages: tifffile, PyWavelets, pillow, imageio, decorator, networkx, cycler, kiwisolver, matplotlib, scikit-image\n",
            "  Found existing installation: decorator 5.0.9\n",
            "    Uninstalling decorator-5.0.9:\n",
            "      Successfully uninstalled decorator-5.0.9\n",
            "Successfully installed PyWavelets-1.1.1 cycler-0.10.0 decorator-4.4.2 imageio-2.9.0 kiwisolver-1.3.1 matplotlib-3.3.4 networkx-2.5.1 pillow-8.3.1 scikit-image-0.17.2 tifffile-2020.9.3\n"
          ],
          "name": "stdout"
        },
        {
          "output_type": "display_data",
          "data": {
            "application/vnd.colab-display-data+json": {
              "pip_warning": {
                "packages": [
                  "cycler",
                  "decorator",
                  "kiwisolver"
                ]
              }
            }
          },
          "metadata": {}
        },
        {
          "output_type": "stream",
          "text": [
            "Collecting cython\n",
            "  Using cached https://files.pythonhosted.org/packages/d7/04/5890b30102782a3ec9970df3c10f024298803d89624ee23cf75d09bd2548/Cython-0.29.24-cp36-cp36m-manylinux1_x86_64.whl\n",
            "\u001b[31mconda 4.10.3 requires ruamel_yaml_conda>=0.11.14, which is not installed.\u001b[0m\n",
            "Installing collected packages: cython\n",
            "Successfully installed cython-0.29.24\n",
            "Collecting pycocotools from git+https://github.com/philferriere/cocoapi.git#egg=pycocotools&subdirectory=PythonAPI\n",
            "  Cloning https://github.com/philferriere/cocoapi.git to /tmp/pip-install-odebfpg_/pycocotools\n",
            "Building wheels for collected packages: pycocotools\n",
            "  Running setup.py bdist_wheel for pycocotools ... \u001b[?25ldone\n",
            "\u001b[?25h  Stored in directory: /tmp/pip-ephem-wheel-cache-uf16szhe/wheels/69/2b/12/2fa959e49f73d26cff202c2f4e5079096c9c57c8a8509fd75c\n",
            "Successfully built pycocotools\n",
            "\u001b[31mconda 4.10.3 requires ruamel_yaml_conda>=0.11.14, which is not installed.\u001b[0m\n",
            "Installing collected packages: pycocotools\n",
            "Successfully installed pycocotools-2.0\n"
          ],
          "name": "stdout"
        }
      ]
    },
    {
      "cell_type": "code",
      "metadata": {
        "colab": {
          "base_uri": "https://localhost:8080/"
        },
        "id": "O-AGIbrfJQ5w",
        "outputId": "d37ae939-593b-47ee-c48a-bd1d4a258a7e"
      },
      "source": [
        "!python run.py --model=mobilenet_thin --resize=432x368 --image=./images/p1.jpg\n"
      ],
      "execution_count": 66,
      "outputs": [
        {
          "output_type": "stream",
          "text": [
            "/usr/local/lib/python3.6/site-packages/tensorflow/python/framework/dtypes.py:526: FutureWarning: Passing (type, 1) or '1type' as a synonym of type is deprecated; in a future version of numpy, it will be understood as (type, (1,)) / '(1,)type'.\n",
            "  _np_qint8 = np.dtype([(\"qint8\", np.int8, 1)])\n",
            "/usr/local/lib/python3.6/site-packages/tensorflow/python/framework/dtypes.py:527: FutureWarning: Passing (type, 1) or '1type' as a synonym of type is deprecated; in a future version of numpy, it will be understood as (type, (1,)) / '(1,)type'.\n",
            "  _np_quint8 = np.dtype([(\"quint8\", np.uint8, 1)])\n",
            "/usr/local/lib/python3.6/site-packages/tensorflow/python/framework/dtypes.py:528: FutureWarning: Passing (type, 1) or '1type' as a synonym of type is deprecated; in a future version of numpy, it will be understood as (type, (1,)) / '(1,)type'.\n",
            "  _np_qint16 = np.dtype([(\"qint16\", np.int16, 1)])\n",
            "/usr/local/lib/python3.6/site-packages/tensorflow/python/framework/dtypes.py:529: FutureWarning: Passing (type, 1) or '1type' as a synonym of type is deprecated; in a future version of numpy, it will be understood as (type, (1,)) / '(1,)type'.\n",
            "  _np_quint16 = np.dtype([(\"quint16\", np.uint16, 1)])\n",
            "/usr/local/lib/python3.6/site-packages/tensorflow/python/framework/dtypes.py:530: FutureWarning: Passing (type, 1) or '1type' as a synonym of type is deprecated; in a future version of numpy, it will be understood as (type, (1,)) / '(1,)type'.\n",
            "  _np_qint32 = np.dtype([(\"qint32\", np.int32, 1)])\n",
            "/usr/local/lib/python3.6/site-packages/tensorflow/python/framework/dtypes.py:535: FutureWarning: Passing (type, 1) or '1type' as a synonym of type is deprecated; in a future version of numpy, it will be understood as (type, (1,)) / '(1,)type'.\n",
            "  np_resource = np.dtype([(\"resource\", np.ubyte, 1)])\n",
            "[2021-08-24 12:39:11,523] [TfPoseEstimator] [INFO] loading graph from /content/Realtime-Action-Recognition/src/githubs/tf-pose-estimation/models/graph/mobilenet_thin/graph_opt.pb(default size=432x368)\n",
            "2021-08-24 12:39:11,523 INFO loading graph from /content/Realtime-Action-Recognition/src/githubs/tf-pose-estimation/models/graph/mobilenet_thin/graph_opt.pb(default size=432x368)\n",
            "2021-08-24 12:39:11.797917: I tensorflow/core/platform/cpu_feature_guard.cc:141] Your CPU supports instructions that this TensorFlow binary was not compiled to use: AVX2 FMA\n",
            "2021-08-24 12:39:11.821069: E tensorflow/stream_executor/cuda/cuda_driver.cc:300] failed call to cuInit: CUDA_ERROR_NO_DEVICE: no CUDA-capable device is detected\n",
            "2021-08-24 12:39:11.821197: I tensorflow/stream_executor/cuda/cuda_diagnostics.cc:148] kernel driver does not appear to be running on this host (959457b8aca7): /proc/driver/nvidia/version does not exist\n",
            "2021-08-24 12:39:11.827723: I tensorflow/core/platform/profile_utils/cpu_utils.cc:94] CPU Frequency: 2299995000 Hz\n",
            "2021-08-24 12:39:11.828227: I tensorflow/compiler/xla/service/service.cc:150] XLA service 0x564858e9d180 executing computations on platform Host. Devices:\n",
            "2021-08-24 12:39:11.828270: I tensorflow/compiler/xla/service/service.cc:158]   StreamExecutor device (0): <undefined>, <undefined>\n",
            "WARNING:tensorflow:From /usr/local/lib/python3.6/site-packages/tensorflow/python/framework/op_def_library.py:263: colocate_with (from tensorflow.python.framework.ops) is deprecated and will be removed in a future version.\n",
            "Instructions for updating:\n",
            "Colocations handled automatically by placer.\n",
            "2021-08-24 12:39:11,850 WARNING From /usr/local/lib/python3.6/site-packages/tensorflow/python/framework/op_def_library.py:263: colocate_with (from tensorflow.python.framework.ops) is deprecated and will be removed in a future version.\n",
            "Instructions for updating:\n",
            "Colocations handled automatically by placer.\n",
            "[2021-08-24 12:39:19,627] [TfPoseEstimatorRun] [INFO] inference image: ./images/p1.jpg in 1.4125 seconds.\n",
            "2021-08-24 12:39:19,627 INFO inference image: ./images/p1.jpg in 1.4125 seconds.\n"
          ],
          "name": "stdout"
        }
      ]
    }
  ]
}